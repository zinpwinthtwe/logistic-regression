{
 "cells": [
  {
   "cell_type": "markdown",
   "id": "8dfe7f12",
   "metadata": {},
   "source": [
    "<font size=\"+3\"><strong>4.2. Predicting Damage with Logistic Regression</strong></font>"
   ]
  },
  {
   "cell_type": "code",
   "execution_count": 1,
   "id": "f80cfb34",
   "metadata": {},
   "outputs": [],
   "source": [
    "import sqlite3\n",
    "import warnings\n",
    "\n",
    "import matplotlib.pyplot as plt\n",
    "import numpy as np\n",
    "import pandas as pd\n",
    "import seaborn as sns\n",
    "from category_encoders import OneHotEncoder\n",
    "from sklearn.linear_model import LogisticRegression\n",
    "from sklearn.metrics import accuracy_score\n",
    "from sklearn.model_selection import train_test_split\n",
    "from sklearn.pipeline import Pipeline, make_pipeline\n",
    "from sklearn.utils.validation import check_is_fitted\n",
    "\n",
    "warnings.simplefilter(action=\"ignore\", category=FutureWarning)"
   ]
  },
  {
   "cell_type": "markdown",
   "id": "c6748f57",
   "metadata": {},
   "source": [
    "# Prepare Data"
   ]
  },
  {
   "cell_type": "markdown",
   "id": "262e9542",
   "metadata": {},
   "source": [
    "## Import "
   ]
  },
  {
   "cell_type": "code",
   "execution_count": 2,
   "id": "1478753a",
   "metadata": {},
   "outputs": [],
   "source": [
    "def wrangle(db_path):\n",
    "    # Connect to database\n",
    "    conn = sqlite3.connect(db_path)\n",
    "\n",
    "    # Construct query\n",
    "    query = \"\"\"\n",
    "        SELECT distinct(i.building_id) AS b_id,\n",
    "           s.*,\n",
    "           d.damage_grade\n",
    "        FROM id_map AS i\n",
    "        JOIN building_structure AS s ON i.building_id = s.building_id\n",
    "        JOIN building_damage AS d ON i.building_id = d.building_id\n",
    "        WHERE district_id = 4\n",
    "    \"\"\"\n",
    "\n",
    "    # Read query results into DataFrame\n",
    "    df = pd.read_sql(query,conn,index_col=\"b_id\")\n",
    "    \n",
    "    #Create Binary Target\n",
    "    df[\"damage_grade\"] = df[\"damage_grade\"].str[-1].astype(\"int\")\n",
    "    df[\"severe_damage\"] = (df[\"damage_grade\"]>3).astype(\"int\")\n",
    "    \n",
    "    #Indentify leakage information\n",
    "    drop_col = [col for col in df.columns if \"post_eq\" in col]\n",
    "    \n",
    "    #remove Damage Grade columns\n",
    "    drop_col.append(\"damage_grade\")\n",
    "    \n",
    "    #remove highly correlated column\n",
    "    drop_col.append(\"count_floors_pre_eq\")\n",
    "    \n",
    "    #remove high cardinality column feature\n",
    "    drop_col.append(\"building_id\")\n",
    "    \n",
    "    #remove columns\n",
    "    df.drop(columns=drop_col,inplace=True)\n",
    "\n",
    "    \n",
    "    return df"
   ]
  },
  {
   "cell_type": "markdown",
   "id": "2a2521d8",
   "metadata": {},
   "source": [
    "**Task 4.2.1:** Complete the `wrangle` function above so that the it returns the results of `query` as a DataFrame. Be sure that the index column is set to `\"b_id\"`. Also, the path to the SQLite database is `\"nepals.sqlite\"`.\n",
    "\n",
    "- [<span id='technique'>Read SQL query into a DataFrame using <span id='tool'>pandas</span></span>.](../%40textbook/10-databases-sql.ipynb#Using-pandas-with-SQL-Databases)\n",
    "- [<span id='technique'>Write a function in <span id='tool'>Python</span></span>.](../%40textbook/02-python-advanced.ipynb#Functions)"
   ]
  },
  {
   "cell_type": "code",
   "execution_count": 3,
   "id": "06d93f00",
   "metadata": {},
   "outputs": [
    {
     "data": {
      "text/html": [
       "<div>\n",
       "<style scoped>\n",
       "    .dataframe tbody tr th:only-of-type {\n",
       "        vertical-align: middle;\n",
       "    }\n",
       "\n",
       "    .dataframe tbody tr th {\n",
       "        vertical-align: top;\n",
       "    }\n",
       "\n",
       "    .dataframe thead th {\n",
       "        text-align: right;\n",
       "    }\n",
       "</style>\n",
       "<table border=\"1\" class=\"dataframe\">\n",
       "  <thead>\n",
       "    <tr style=\"text-align: right;\">\n",
       "      <th></th>\n",
       "      <th>age_building</th>\n",
       "      <th>plinth_area_sq_ft</th>\n",
       "      <th>height_ft_pre_eq</th>\n",
       "      <th>land_surface_condition</th>\n",
       "      <th>foundation_type</th>\n",
       "      <th>roof_type</th>\n",
       "      <th>ground_floor_type</th>\n",
       "      <th>other_floor_type</th>\n",
       "      <th>position</th>\n",
       "      <th>plan_configuration</th>\n",
       "      <th>superstructure</th>\n",
       "      <th>severe_damage</th>\n",
       "    </tr>\n",
       "    <tr>\n",
       "      <th>b_id</th>\n",
       "      <th></th>\n",
       "      <th></th>\n",
       "      <th></th>\n",
       "      <th></th>\n",
       "      <th></th>\n",
       "      <th></th>\n",
       "      <th></th>\n",
       "      <th></th>\n",
       "      <th></th>\n",
       "      <th></th>\n",
       "      <th></th>\n",
       "      <th></th>\n",
       "    </tr>\n",
       "  </thead>\n",
       "  <tbody>\n",
       "    <tr>\n",
       "      <th>164002</th>\n",
       "      <td>20</td>\n",
       "      <td>560</td>\n",
       "      <td>18</td>\n",
       "      <td>Flat</td>\n",
       "      <td>Mud mortar-Stone/Brick</td>\n",
       "      <td>Bamboo/Timber-Light roof</td>\n",
       "      <td>Mud</td>\n",
       "      <td>TImber/Bamboo-Mud</td>\n",
       "      <td>Not attached</td>\n",
       "      <td>Rectangular</td>\n",
       "      <td>Stone, mud mortar</td>\n",
       "      <td>0</td>\n",
       "    </tr>\n",
       "    <tr>\n",
       "      <th>164081</th>\n",
       "      <td>21</td>\n",
       "      <td>200</td>\n",
       "      <td>12</td>\n",
       "      <td>Flat</td>\n",
       "      <td>Mud mortar-Stone/Brick</td>\n",
       "      <td>Bamboo/Timber-Light roof</td>\n",
       "      <td>Mud</td>\n",
       "      <td>TImber/Bamboo-Mud</td>\n",
       "      <td>Not attached</td>\n",
       "      <td>Rectangular</td>\n",
       "      <td>Stone, mud mortar</td>\n",
       "      <td>0</td>\n",
       "    </tr>\n",
       "    <tr>\n",
       "      <th>164089</th>\n",
       "      <td>18</td>\n",
       "      <td>315</td>\n",
       "      <td>20</td>\n",
       "      <td>Flat</td>\n",
       "      <td>Mud mortar-Stone/Brick</td>\n",
       "      <td>Bamboo/Timber-Light roof</td>\n",
       "      <td>Mud</td>\n",
       "      <td>TImber/Bamboo-Mud</td>\n",
       "      <td>Not attached</td>\n",
       "      <td>Rectangular</td>\n",
       "      <td>Stone, mud mortar</td>\n",
       "      <td>0</td>\n",
       "    </tr>\n",
       "    <tr>\n",
       "      <th>164098</th>\n",
       "      <td>45</td>\n",
       "      <td>290</td>\n",
       "      <td>13</td>\n",
       "      <td>Flat</td>\n",
       "      <td>Mud mortar-Stone/Brick</td>\n",
       "      <td>Bamboo/Timber-Light roof</td>\n",
       "      <td>Mud</td>\n",
       "      <td>TImber/Bamboo-Mud</td>\n",
       "      <td>Not attached</td>\n",
       "      <td>Rectangular</td>\n",
       "      <td>Stone, mud mortar</td>\n",
       "      <td>0</td>\n",
       "    </tr>\n",
       "    <tr>\n",
       "      <th>164103</th>\n",
       "      <td>21</td>\n",
       "      <td>230</td>\n",
       "      <td>13</td>\n",
       "      <td>Flat</td>\n",
       "      <td>Mud mortar-Stone/Brick</td>\n",
       "      <td>Bamboo/Timber-Light roof</td>\n",
       "      <td>Mud</td>\n",
       "      <td>TImber/Bamboo-Mud</td>\n",
       "      <td>Not attached</td>\n",
       "      <td>Rectangular</td>\n",
       "      <td>Stone, mud mortar</td>\n",
       "      <td>0</td>\n",
       "    </tr>\n",
       "  </tbody>\n",
       "</table>\n",
       "</div>"
      ],
      "text/plain": [
       "        age_building  plinth_area_sq_ft  height_ft_pre_eq  \\\n",
       "b_id                                                        \n",
       "164002            20                560                18   \n",
       "164081            21                200                12   \n",
       "164089            18                315                20   \n",
       "164098            45                290                13   \n",
       "164103            21                230                13   \n",
       "\n",
       "       land_surface_condition         foundation_type  \\\n",
       "b_id                                                    \n",
       "164002                   Flat  Mud mortar-Stone/Brick   \n",
       "164081                   Flat  Mud mortar-Stone/Brick   \n",
       "164089                   Flat  Mud mortar-Stone/Brick   \n",
       "164098                   Flat  Mud mortar-Stone/Brick   \n",
       "164103                   Flat  Mud mortar-Stone/Brick   \n",
       "\n",
       "                       roof_type ground_floor_type   other_floor_type  \\\n",
       "b_id                                                                    \n",
       "164002  Bamboo/Timber-Light roof               Mud  TImber/Bamboo-Mud   \n",
       "164081  Bamboo/Timber-Light roof               Mud  TImber/Bamboo-Mud   \n",
       "164089  Bamboo/Timber-Light roof               Mud  TImber/Bamboo-Mud   \n",
       "164098  Bamboo/Timber-Light roof               Mud  TImber/Bamboo-Mud   \n",
       "164103  Bamboo/Timber-Light roof               Mud  TImber/Bamboo-Mud   \n",
       "\n",
       "            position plan_configuration     superstructure  severe_damage  \n",
       "b_id                                                                       \n",
       "164002  Not attached        Rectangular  Stone, mud mortar              0  \n",
       "164081  Not attached        Rectangular  Stone, mud mortar              0  \n",
       "164089  Not attached        Rectangular  Stone, mud mortar              0  \n",
       "164098  Not attached        Rectangular  Stone, mud mortar              0  \n",
       "164103  Not attached        Rectangular  Stone, mud mortar              0  "
      ]
     },
     "execution_count": 3,
     "metadata": {},
     "output_type": "execute_result"
    }
   ],
   "source": [
    "df = wrangle(\"nepals.sqlite\")\n",
    "df.head()"
   ]
  },
  {
   "cell_type": "code",
   "execution_count": 4,
   "id": "60d17856",
   "metadata": {},
   "outputs": [],
   "source": [
    "# Check your work\n",
    "assert df.shape[0] == 70836, f\"`df` should have 70,836 rows, not {df.shape[0]}.\""
   ]
  },
  {
   "cell_type": "markdown",
   "id": "7c3f3c71",
   "metadata": {},
   "source": [
    "There seem to be several features in `df` with information about the condition of a property after the earthquake."
   ]
  },
  {
   "cell_type": "markdown",
   "id": "30211c2d",
   "metadata": {},
   "source": [
    "**Task 4.2.2:** Add to your wrangle function so that these features are dropped from the DataFrame. Don't forget to rerun all the cells above. \n",
    "\n",
    "- [<span id='technique'>Drop a column from a DataFrame using <span id='tool'>pandas</span></span>.](../%40textbook/03-pandas-getting-started.ipynb#Dropping-Columns)\n",
    "- [<span id='technique'>Subset a DataFrame's columns based on column names in <span id='tool'>pandas</span></span>.](../%40textbook/04-pandas-advanced.ipynb#Subset-a-DataFrame-by-Selecting-One-or-More-Columns)"
   ]
  },
  {
   "cell_type": "code",
   "execution_count": 5,
   "id": "c2fc8fde",
   "metadata": {
    "scrolled": true
   },
   "outputs": [
    {
     "name": "stdout",
     "output_type": "stream",
     "text": [
      "<class 'pandas.core.frame.DataFrame'>\n",
      "Int64Index: 70836 entries, 164002 to 234835\n",
      "Data columns (total 12 columns):\n",
      " #   Column                  Non-Null Count  Dtype \n",
      "---  ------                  --------------  ----- \n",
      " 0   age_building            70836 non-null  int64 \n",
      " 1   plinth_area_sq_ft       70836 non-null  int64 \n",
      " 2   height_ft_pre_eq        70836 non-null  int64 \n",
      " 3   land_surface_condition  70836 non-null  object\n",
      " 4   foundation_type         70836 non-null  object\n",
      " 5   roof_type               70836 non-null  object\n",
      " 6   ground_floor_type       70836 non-null  object\n",
      " 7   other_floor_type        70836 non-null  object\n",
      " 8   position                70836 non-null  object\n",
      " 9   plan_configuration      70836 non-null  object\n",
      " 10  superstructure          70836 non-null  object\n",
      " 11  severe_damage           70836 non-null  int32 \n",
      "dtypes: int32(1), int64(3), object(8)\n",
      "memory usage: 6.8+ MB\n",
      "None\n"
     ]
    }
   ],
   "source": [
    "print(df.info())"
   ]
  },
  {
   "cell_type": "code",
   "execution_count": 18,
   "id": "cba0a80a",
   "metadata": {},
   "outputs": [
    {
     "ename": "KeyError",
     "evalue": "'damage_grade'",
     "output_type": "error",
     "traceback": [
      "\u001b[1;31m---------------------------------------------------------------------------\u001b[0m",
      "\u001b[1;31mKeyError\u001b[0m                                  Traceback (most recent call last)",
      "\u001b[1;32m~\\anaconda3\\lib\\site-packages\\pandas\\core\\indexes\\base.py\u001b[0m in \u001b[0;36mget_loc\u001b[1;34m(self, key, method, tolerance)\u001b[0m\n\u001b[0;32m   3360\u001b[0m             \u001b[1;32mtry\u001b[0m\u001b[1;33m:\u001b[0m\u001b[1;33m\u001b[0m\u001b[1;33m\u001b[0m\u001b[0m\n\u001b[1;32m-> 3361\u001b[1;33m                 \u001b[1;32mreturn\u001b[0m \u001b[0mself\u001b[0m\u001b[1;33m.\u001b[0m\u001b[0m_engine\u001b[0m\u001b[1;33m.\u001b[0m\u001b[0mget_loc\u001b[0m\u001b[1;33m(\u001b[0m\u001b[0mcasted_key\u001b[0m\u001b[1;33m)\u001b[0m\u001b[1;33m\u001b[0m\u001b[1;33m\u001b[0m\u001b[0m\n\u001b[0m\u001b[0;32m   3362\u001b[0m             \u001b[1;32mexcept\u001b[0m \u001b[0mKeyError\u001b[0m \u001b[1;32mas\u001b[0m \u001b[0merr\u001b[0m\u001b[1;33m:\u001b[0m\u001b[1;33m\u001b[0m\u001b[1;33m\u001b[0m\u001b[0m\n",
      "\u001b[1;32m~\\anaconda3\\lib\\site-packages\\pandas\\_libs\\index.pyx\u001b[0m in \u001b[0;36mpandas._libs.index.IndexEngine.get_loc\u001b[1;34m()\u001b[0m\n",
      "\u001b[1;32m~\\anaconda3\\lib\\site-packages\\pandas\\_libs\\index.pyx\u001b[0m in \u001b[0;36mpandas._libs.index.IndexEngine.get_loc\u001b[1;34m()\u001b[0m\n",
      "\u001b[1;32mpandas\\_libs\\hashtable_class_helper.pxi\u001b[0m in \u001b[0;36mpandas._libs.hashtable.PyObjectHashTable.get_item\u001b[1;34m()\u001b[0m\n",
      "\u001b[1;32mpandas\\_libs\\hashtable_class_helper.pxi\u001b[0m in \u001b[0;36mpandas._libs.hashtable.PyObjectHashTable.get_item\u001b[1;34m()\u001b[0m\n",
      "\u001b[1;31mKeyError\u001b[0m: 'damage_grade'",
      "\nThe above exception was the direct cause of the following exception:\n",
      "\u001b[1;31mKeyError\u001b[0m                                  Traceback (most recent call last)",
      "\u001b[1;32m~\\AppData\\Local\\Temp/ipykernel_2096/2554211678.py\u001b[0m in \u001b[0;36m<module>\u001b[1;34m\u001b[0m\n\u001b[1;32m----> 1\u001b[1;33m \u001b[0mdf\u001b[0m\u001b[1;33m[\u001b[0m\u001b[1;34m\"damage_grade\"\u001b[0m\u001b[1;33m]\u001b[0m\u001b[1;33m.\u001b[0m\u001b[0munique\u001b[0m\u001b[1;33m(\u001b[0m\u001b[1;33m)\u001b[0m\u001b[1;33m\u001b[0m\u001b[1;33m\u001b[0m\u001b[0m\n\u001b[0m",
      "\u001b[1;32m~\\anaconda3\\lib\\site-packages\\pandas\\core\\frame.py\u001b[0m in \u001b[0;36m__getitem__\u001b[1;34m(self, key)\u001b[0m\n\u001b[0;32m   3456\u001b[0m             \u001b[1;32mif\u001b[0m \u001b[0mself\u001b[0m\u001b[1;33m.\u001b[0m\u001b[0mcolumns\u001b[0m\u001b[1;33m.\u001b[0m\u001b[0mnlevels\u001b[0m \u001b[1;33m>\u001b[0m \u001b[1;36m1\u001b[0m\u001b[1;33m:\u001b[0m\u001b[1;33m\u001b[0m\u001b[1;33m\u001b[0m\u001b[0m\n\u001b[0;32m   3457\u001b[0m                 \u001b[1;32mreturn\u001b[0m \u001b[0mself\u001b[0m\u001b[1;33m.\u001b[0m\u001b[0m_getitem_multilevel\u001b[0m\u001b[1;33m(\u001b[0m\u001b[0mkey\u001b[0m\u001b[1;33m)\u001b[0m\u001b[1;33m\u001b[0m\u001b[1;33m\u001b[0m\u001b[0m\n\u001b[1;32m-> 3458\u001b[1;33m             \u001b[0mindexer\u001b[0m \u001b[1;33m=\u001b[0m \u001b[0mself\u001b[0m\u001b[1;33m.\u001b[0m\u001b[0mcolumns\u001b[0m\u001b[1;33m.\u001b[0m\u001b[0mget_loc\u001b[0m\u001b[1;33m(\u001b[0m\u001b[0mkey\u001b[0m\u001b[1;33m)\u001b[0m\u001b[1;33m\u001b[0m\u001b[1;33m\u001b[0m\u001b[0m\n\u001b[0m\u001b[0;32m   3459\u001b[0m             \u001b[1;32mif\u001b[0m \u001b[0mis_integer\u001b[0m\u001b[1;33m(\u001b[0m\u001b[0mindexer\u001b[0m\u001b[1;33m)\u001b[0m\u001b[1;33m:\u001b[0m\u001b[1;33m\u001b[0m\u001b[1;33m\u001b[0m\u001b[0m\n\u001b[0;32m   3460\u001b[0m                 \u001b[0mindexer\u001b[0m \u001b[1;33m=\u001b[0m \u001b[1;33m[\u001b[0m\u001b[0mindexer\u001b[0m\u001b[1;33m]\u001b[0m\u001b[1;33m\u001b[0m\u001b[1;33m\u001b[0m\u001b[0m\n",
      "\u001b[1;32m~\\anaconda3\\lib\\site-packages\\pandas\\core\\indexes\\base.py\u001b[0m in \u001b[0;36mget_loc\u001b[1;34m(self, key, method, tolerance)\u001b[0m\n\u001b[0;32m   3361\u001b[0m                 \u001b[1;32mreturn\u001b[0m \u001b[0mself\u001b[0m\u001b[1;33m.\u001b[0m\u001b[0m_engine\u001b[0m\u001b[1;33m.\u001b[0m\u001b[0mget_loc\u001b[0m\u001b[1;33m(\u001b[0m\u001b[0mcasted_key\u001b[0m\u001b[1;33m)\u001b[0m\u001b[1;33m\u001b[0m\u001b[1;33m\u001b[0m\u001b[0m\n\u001b[0;32m   3362\u001b[0m             \u001b[1;32mexcept\u001b[0m \u001b[0mKeyError\u001b[0m \u001b[1;32mas\u001b[0m \u001b[0merr\u001b[0m\u001b[1;33m:\u001b[0m\u001b[1;33m\u001b[0m\u001b[1;33m\u001b[0m\u001b[0m\n\u001b[1;32m-> 3363\u001b[1;33m                 \u001b[1;32mraise\u001b[0m \u001b[0mKeyError\u001b[0m\u001b[1;33m(\u001b[0m\u001b[0mkey\u001b[0m\u001b[1;33m)\u001b[0m \u001b[1;32mfrom\u001b[0m \u001b[0merr\u001b[0m\u001b[1;33m\u001b[0m\u001b[1;33m\u001b[0m\u001b[0m\n\u001b[0m\u001b[0;32m   3364\u001b[0m \u001b[1;33m\u001b[0m\u001b[0m\n\u001b[0;32m   3365\u001b[0m         \u001b[1;32mif\u001b[0m \u001b[0mis_scalar\u001b[0m\u001b[1;33m(\u001b[0m\u001b[0mkey\u001b[0m\u001b[1;33m)\u001b[0m \u001b[1;32mand\u001b[0m \u001b[0misna\u001b[0m\u001b[1;33m(\u001b[0m\u001b[0mkey\u001b[0m\u001b[1;33m)\u001b[0m \u001b[1;32mand\u001b[0m \u001b[1;32mnot\u001b[0m \u001b[0mself\u001b[0m\u001b[1;33m.\u001b[0m\u001b[0mhasnans\u001b[0m\u001b[1;33m:\u001b[0m\u001b[1;33m\u001b[0m\u001b[1;33m\u001b[0m\u001b[0m\n",
      "\u001b[1;31mKeyError\u001b[0m: 'damage_grade'"
     ]
    }
   ],
   "source": [
    "df[\"damage_grade\"].unique()"
   ]
  },
  {
   "cell_type": "code",
   "execution_count": null,
   "id": "1a239ab8",
   "metadata": {},
   "outputs": [],
   "source": [
    "#df[\"damage_grade\"] = df[\"damage_grade\"].str[-1].astype(\"int\")\n",
    "#df[\"severe_damage\"] = (df[\"damage_grade\"]>3).astype(\"int\")"
   ]
  },
  {
   "cell_type": "code",
   "execution_count": 6,
   "id": "6a524242",
   "metadata": {},
   "outputs": [
    {
     "data": {
      "text/plain": [
       "Index(['age_building', 'plinth_area_sq_ft', 'height_ft_pre_eq',\n",
       "       'land_surface_condition', 'foundation_type', 'roof_type',\n",
       "       'ground_floor_type', 'other_floor_type', 'position',\n",
       "       'plan_configuration', 'superstructure', 'severe_damage'],\n",
       "      dtype='object')"
      ]
     },
     "execution_count": 6,
     "metadata": {},
     "output_type": "execute_result"
    }
   ],
   "source": [
    "df.columns"
   ]
  },
  {
   "cell_type": "code",
   "execution_count": null,
   "id": "3d76c690",
   "metadata": {},
   "outputs": [],
   "source": [
    "leaky_col = []\n",
    "for c in df.columns:\n",
    "    if \"post_eq\" in c:\n",
    "        leaky_col.append(c)\n",
    "leaky_col"
   ]
  },
  {
   "cell_type": "code",
   "execution_count": null,
   "id": "2cbdfd0b",
   "metadata": {},
   "outputs": [],
   "source": [
    "leaky_col = [col for col in df.columns if \"post_eq\" in col]\n",
    "leaky_col"
   ]
  },
  {
   "cell_type": "code",
   "execution_count": null,
   "id": "da07ed5c",
   "metadata": {},
   "outputs": [],
   "source": [
    "leaky_col = [col for col in df.columns if \"post_eq\" in col]"
   ]
  },
  {
   "cell_type": "code",
   "execution_count": 7,
   "id": "93f58be2",
   "metadata": {},
   "outputs": [],
   "source": [
    "# Check your work\n",
    "assert (\n",
    "    df.filter(regex=\"post_eq\").shape[1] == 0\n",
    "), \"`df` still has leaky features. Try again!\""
   ]
  },
  {
   "cell_type": "markdown",
   "id": "894b6276",
   "metadata": {},
   "source": [
    "We want to build a **binary classification** model, but our current target `\"damage_grade\"` has more than two categories."
   ]
  },
  {
   "cell_type": "markdown",
   "id": "dc6f0e2d",
   "metadata": {},
   "source": [
    "**Task 4.2.3:** Add to your wrangle function so that it creates a new target column `\"severe_damage\"`. For buildings where the `\"damage_grade\"` is Grade 4 or above, `\"severe_damage\"` should be `1`. For all other buildings, `\"severe_damage\"` should be `0`. Don't forget to drop `\"damage_grade\"` to avoid leakage, and rerun all the cells above.\n",
    "\n",
    "- [<span id='technique'>Access a substring in a Series using <span id='tool'>pandas</span></span>.](../%40textbook/03-pandas-getting-started.ipynb#Access-a-substring-in-a-Series)\n",
    "- [<span id='technique'>Drop a column from a DataFrame using <span id='tool'>pandas</span></span>.](../%40textbook/03-pandas-getting-started.ipynb#Dropping-Columns)\n",
    "- [<span id='technique'>Recast a column as a different data type in <span id='tool'>pandas</span></span>.](../%40textbook/03-pandas-getting-started.ipynb#Recasting-Data)"
   ]
  },
  {
   "cell_type": "code",
   "execution_count": 8,
   "id": "45cf6e79",
   "metadata": {},
   "outputs": [
    {
     "name": "stdout",
     "output_type": "stream",
     "text": [
      "1    45519\n",
      "0    25317\n",
      "Name: severe_damage, dtype: int64\n"
     ]
    }
   ],
   "source": [
    "print(df[\"severe_damage\"].value_counts())"
   ]
  },
  {
   "cell_type": "code",
   "execution_count": 9,
   "id": "97cdeada",
   "metadata": {},
   "outputs": [],
   "source": [
    "# Check your work\n",
    "assert (\n",
    "    \"damage_grade\" not in df.columns\n",
    "), \"Your DataFrame should not include the `'damage_grade'` column.\"\n",
    "assert (\n",
    "    \"severe_damage\" in df.columns\n",
    "), \"Your DataFrame is missing the `'severe_damage'` column.\"\n",
    "assert (\n",
    "    df[\"severe_damage\"].value_counts().shape[0] == 2\n",
    "), f\"The `'damage_grade'` column should have only two unique values, not {df['severe_damage'].value_counts().shape[0]}\""
   ]
  },
  {
   "cell_type": "markdown",
   "id": "2693cbbd",
   "metadata": {},
   "source": [
    "## Explore"
   ]
  },
  {
   "cell_type": "markdown",
   "id": "87c14329",
   "metadata": {},
   "source": [
    "Since our model will be a type of linear model, we need to make sure there's no issue with multicollinearity in our dataset."
   ]
  },
  {
   "cell_type": "markdown",
   "id": "bc329b09",
   "metadata": {},
   "source": [
    "**Task 4.2.4:** Plot a correlation heatmap of the remaining numerical features in `df`. Since `\"severe_damage\"` will be your target, you don't need to include it in your heatmap. \n",
    "\n",
    "- [What's a <span id='term'>correlation coefficient</span>?](../%40textbook/05-pandas-summary-statistics.ipynb#Correlations)\n",
    "- [What's a <span id='term'>heatmap</span>?](../%40textbook/09-visualization-seaborn.ipynb#Correlation-Heatmaps)\n",
    "- [<span id='technique'>Create a correlation matrix in <span id='tool'>pandas</span></span>.](../%40textbook/07-visualization-pandas.ipynb#Correlation-Matrices)\n",
    "- [<span id='technique'>Create a heatmap in <span id='tool'>seaborn</span></span>.](../%40textbook/09-visualization-seaborn.ipynb#Correlation-Heatmaps)\n",
    "\n",
    "Do you see any features that you need to drop?"
   ]
  },
  {
   "cell_type": "code",
   "execution_count": 10,
   "id": "4ca8360e",
   "metadata": {
    "scrolled": true
   },
   "outputs": [
    {
     "data": {
      "text/html": [
       "<div>\n",
       "<style scoped>\n",
       "    .dataframe tbody tr th:only-of-type {\n",
       "        vertical-align: middle;\n",
       "    }\n",
       "\n",
       "    .dataframe tbody tr th {\n",
       "        vertical-align: top;\n",
       "    }\n",
       "\n",
       "    .dataframe thead th {\n",
       "        text-align: right;\n",
       "    }\n",
       "</style>\n",
       "<table border=\"1\" class=\"dataframe\">\n",
       "  <thead>\n",
       "    <tr style=\"text-align: right;\">\n",
       "      <th></th>\n",
       "      <th>age_building</th>\n",
       "      <th>plinth_area_sq_ft</th>\n",
       "      <th>height_ft_pre_eq</th>\n",
       "      <th>severe_damage</th>\n",
       "    </tr>\n",
       "  </thead>\n",
       "  <tbody>\n",
       "    <tr>\n",
       "      <th>age_building</th>\n",
       "      <td>1.000000</td>\n",
       "      <td>-0.016856</td>\n",
       "      <td>0.047652</td>\n",
       "      <td>0.051580</td>\n",
       "    </tr>\n",
       "    <tr>\n",
       "      <th>plinth_area_sq_ft</th>\n",
       "      <td>-0.016856</td>\n",
       "      <td>1.000000</td>\n",
       "      <td>0.283496</td>\n",
       "      <td>-0.086714</td>\n",
       "    </tr>\n",
       "    <tr>\n",
       "      <th>height_ft_pre_eq</th>\n",
       "      <td>0.047652</td>\n",
       "      <td>0.283496</td>\n",
       "      <td>1.000000</td>\n",
       "      <td>-0.038477</td>\n",
       "    </tr>\n",
       "    <tr>\n",
       "      <th>severe_damage</th>\n",
       "      <td>0.051580</td>\n",
       "      <td>-0.086714</td>\n",
       "      <td>-0.038477</td>\n",
       "      <td>1.000000</td>\n",
       "    </tr>\n",
       "  </tbody>\n",
       "</table>\n",
       "</div>"
      ],
      "text/plain": [
       "                   age_building  plinth_area_sq_ft  height_ft_pre_eq  \\\n",
       "age_building           1.000000          -0.016856          0.047652   \n",
       "plinth_area_sq_ft     -0.016856           1.000000          0.283496   \n",
       "height_ft_pre_eq       0.047652           0.283496          1.000000   \n",
       "severe_damage          0.051580          -0.086714         -0.038477   \n",
       "\n",
       "                   severe_damage  \n",
       "age_building            0.051580  \n",
       "plinth_area_sq_ft      -0.086714  \n",
       "height_ft_pre_eq       -0.038477  \n",
       "severe_damage           1.000000  "
      ]
     },
     "execution_count": 10,
     "metadata": {},
     "output_type": "execute_result"
    }
   ],
   "source": [
    "df.corr()"
   ]
  },
  {
   "cell_type": "code",
   "execution_count": 22,
   "id": "698019d6",
   "metadata": {},
   "outputs": [
    {
     "ename": "KeyError",
     "evalue": "'count_floors_pre_eq'",
     "output_type": "error",
     "traceback": [
      "\u001b[1;31m---------------------------------------------------------------------------\u001b[0m",
      "\u001b[1;31mKeyError\u001b[0m                                  Traceback (most recent call last)",
      "\u001b[1;32m~\\anaconda3\\lib\\site-packages\\pandas\\core\\indexes\\base.py\u001b[0m in \u001b[0;36mget_loc\u001b[1;34m(self, key, method, tolerance)\u001b[0m\n\u001b[0;32m   3360\u001b[0m             \u001b[1;32mtry\u001b[0m\u001b[1;33m:\u001b[0m\u001b[1;33m\u001b[0m\u001b[1;33m\u001b[0m\u001b[0m\n\u001b[1;32m-> 3361\u001b[1;33m                 \u001b[1;32mreturn\u001b[0m \u001b[0mself\u001b[0m\u001b[1;33m.\u001b[0m\u001b[0m_engine\u001b[0m\u001b[1;33m.\u001b[0m\u001b[0mget_loc\u001b[0m\u001b[1;33m(\u001b[0m\u001b[0mcasted_key\u001b[0m\u001b[1;33m)\u001b[0m\u001b[1;33m\u001b[0m\u001b[1;33m\u001b[0m\u001b[0m\n\u001b[0m\u001b[0;32m   3362\u001b[0m             \u001b[1;32mexcept\u001b[0m \u001b[0mKeyError\u001b[0m \u001b[1;32mas\u001b[0m \u001b[0merr\u001b[0m\u001b[1;33m:\u001b[0m\u001b[1;33m\u001b[0m\u001b[1;33m\u001b[0m\u001b[0m\n",
      "\u001b[1;32m~\\anaconda3\\lib\\site-packages\\pandas\\_libs\\index.pyx\u001b[0m in \u001b[0;36mpandas._libs.index.IndexEngine.get_loc\u001b[1;34m()\u001b[0m\n",
      "\u001b[1;32m~\\anaconda3\\lib\\site-packages\\pandas\\_libs\\index.pyx\u001b[0m in \u001b[0;36mpandas._libs.index.IndexEngine.get_loc\u001b[1;34m()\u001b[0m\n",
      "\u001b[1;32mpandas\\_libs\\hashtable_class_helper.pxi\u001b[0m in \u001b[0;36mpandas._libs.hashtable.PyObjectHashTable.get_item\u001b[1;34m()\u001b[0m\n",
      "\u001b[1;32mpandas\\_libs\\hashtable_class_helper.pxi\u001b[0m in \u001b[0;36mpandas._libs.hashtable.PyObjectHashTable.get_item\u001b[1;34m()\u001b[0m\n",
      "\u001b[1;31mKeyError\u001b[0m: 'count_floors_pre_eq'",
      "\nThe above exception was the direct cause of the following exception:\n",
      "\u001b[1;31mKeyError\u001b[0m                                  Traceback (most recent call last)",
      "\u001b[1;32m~\\AppData\\Local\\Temp/ipykernel_2096/2873588021.py\u001b[0m in \u001b[0;36m<module>\u001b[1;34m\u001b[0m\n\u001b[1;32m----> 1\u001b[1;33m \u001b[0mdf\u001b[0m\u001b[1;33m[\u001b[0m\u001b[1;34m\"severe_damage\"\u001b[0m\u001b[1;33m]\u001b[0m\u001b[1;33m.\u001b[0m\u001b[0mcorr\u001b[0m\u001b[1;33m(\u001b[0m\u001b[0mdf\u001b[0m\u001b[1;33m[\u001b[0m\u001b[1;34m\"count_floors_pre_eq\"\u001b[0m\u001b[1;33m]\u001b[0m\u001b[1;33m)\u001b[0m\u001b[1;33m\u001b[0m\u001b[1;33m\u001b[0m\u001b[0m\n\u001b[0m",
      "\u001b[1;32m~\\anaconda3\\lib\\site-packages\\pandas\\core\\frame.py\u001b[0m in \u001b[0;36m__getitem__\u001b[1;34m(self, key)\u001b[0m\n\u001b[0;32m   3456\u001b[0m             \u001b[1;32mif\u001b[0m \u001b[0mself\u001b[0m\u001b[1;33m.\u001b[0m\u001b[0mcolumns\u001b[0m\u001b[1;33m.\u001b[0m\u001b[0mnlevels\u001b[0m \u001b[1;33m>\u001b[0m \u001b[1;36m1\u001b[0m\u001b[1;33m:\u001b[0m\u001b[1;33m\u001b[0m\u001b[1;33m\u001b[0m\u001b[0m\n\u001b[0;32m   3457\u001b[0m                 \u001b[1;32mreturn\u001b[0m \u001b[0mself\u001b[0m\u001b[1;33m.\u001b[0m\u001b[0m_getitem_multilevel\u001b[0m\u001b[1;33m(\u001b[0m\u001b[0mkey\u001b[0m\u001b[1;33m)\u001b[0m\u001b[1;33m\u001b[0m\u001b[1;33m\u001b[0m\u001b[0m\n\u001b[1;32m-> 3458\u001b[1;33m             \u001b[0mindexer\u001b[0m \u001b[1;33m=\u001b[0m \u001b[0mself\u001b[0m\u001b[1;33m.\u001b[0m\u001b[0mcolumns\u001b[0m\u001b[1;33m.\u001b[0m\u001b[0mget_loc\u001b[0m\u001b[1;33m(\u001b[0m\u001b[0mkey\u001b[0m\u001b[1;33m)\u001b[0m\u001b[1;33m\u001b[0m\u001b[1;33m\u001b[0m\u001b[0m\n\u001b[0m\u001b[0;32m   3459\u001b[0m             \u001b[1;32mif\u001b[0m \u001b[0mis_integer\u001b[0m\u001b[1;33m(\u001b[0m\u001b[0mindexer\u001b[0m\u001b[1;33m)\u001b[0m\u001b[1;33m:\u001b[0m\u001b[1;33m\u001b[0m\u001b[1;33m\u001b[0m\u001b[0m\n\u001b[0;32m   3460\u001b[0m                 \u001b[0mindexer\u001b[0m \u001b[1;33m=\u001b[0m \u001b[1;33m[\u001b[0m\u001b[0mindexer\u001b[0m\u001b[1;33m]\u001b[0m\u001b[1;33m\u001b[0m\u001b[1;33m\u001b[0m\u001b[0m\n",
      "\u001b[1;32m~\\anaconda3\\lib\\site-packages\\pandas\\core\\indexes\\base.py\u001b[0m in \u001b[0;36mget_loc\u001b[1;34m(self, key, method, tolerance)\u001b[0m\n\u001b[0;32m   3361\u001b[0m                 \u001b[1;32mreturn\u001b[0m \u001b[0mself\u001b[0m\u001b[1;33m.\u001b[0m\u001b[0m_engine\u001b[0m\u001b[1;33m.\u001b[0m\u001b[0mget_loc\u001b[0m\u001b[1;33m(\u001b[0m\u001b[0mcasted_key\u001b[0m\u001b[1;33m)\u001b[0m\u001b[1;33m\u001b[0m\u001b[1;33m\u001b[0m\u001b[0m\n\u001b[0;32m   3362\u001b[0m             \u001b[1;32mexcept\u001b[0m \u001b[0mKeyError\u001b[0m \u001b[1;32mas\u001b[0m \u001b[0merr\u001b[0m\u001b[1;33m:\u001b[0m\u001b[1;33m\u001b[0m\u001b[1;33m\u001b[0m\u001b[0m\n\u001b[1;32m-> 3363\u001b[1;33m                 \u001b[1;32mraise\u001b[0m \u001b[0mKeyError\u001b[0m\u001b[1;33m(\u001b[0m\u001b[0mkey\u001b[0m\u001b[1;33m)\u001b[0m \u001b[1;32mfrom\u001b[0m \u001b[0merr\u001b[0m\u001b[1;33m\u001b[0m\u001b[1;33m\u001b[0m\u001b[0m\n\u001b[0m\u001b[0;32m   3364\u001b[0m \u001b[1;33m\u001b[0m\u001b[0m\n\u001b[0;32m   3365\u001b[0m         \u001b[1;32mif\u001b[0m \u001b[0mis_scalar\u001b[0m\u001b[1;33m(\u001b[0m\u001b[0mkey\u001b[0m\u001b[1;33m)\u001b[0m \u001b[1;32mand\u001b[0m \u001b[0misna\u001b[0m\u001b[1;33m(\u001b[0m\u001b[0mkey\u001b[0m\u001b[1;33m)\u001b[0m \u001b[1;32mand\u001b[0m \u001b[1;32mnot\u001b[0m \u001b[0mself\u001b[0m\u001b[1;33m.\u001b[0m\u001b[0mhasnans\u001b[0m\u001b[1;33m:\u001b[0m\u001b[1;33m\u001b[0m\u001b[1;33m\u001b[0m\u001b[0m\n",
      "\u001b[1;31mKeyError\u001b[0m: 'count_floors_pre_eq'"
     ]
    }
   ],
   "source": [
    "df[\"severe_damage\"].corr(df[\"count_floors_pre_eq\"])"
   ]
  },
  {
   "cell_type": "code",
   "execution_count": 11,
   "id": "ce093b59",
   "metadata": {},
   "outputs": [
    {
     "data": {
      "text/plain": [
       "-0.03847659083302029"
      ]
     },
     "execution_count": 11,
     "metadata": {},
     "output_type": "execute_result"
    }
   ],
   "source": [
    "df[\"severe_damage\"].corr(df[\"height_ft_pre_eq\"])"
   ]
  },
  {
   "cell_type": "code",
   "execution_count": 12,
   "id": "1e575bd5",
   "metadata": {},
   "outputs": [
    {
     "data": {
      "text/plain": [
       "<AxesSubplot:>"
      ]
     },
     "execution_count": 12,
     "metadata": {},
     "output_type": "execute_result"
    },
    {
     "data": {
      "image/png": "[encoded data removed]",
      "text/plain": [
       "<Figure size 432x288 with 2 Axes>"
      ]
     },
     "metadata": {
      "needs_background": "light"
     },
     "output_type": "display_data"
    }
   ],
   "source": [
    "# Create correlation matrix\n",
    "correlation = df.select_dtypes(\"number\").drop(columns=\"severe_damage\").corr()\n",
    "# Plot heatmap of `correlation`\n",
    "sns.heatmap(correlation)"
   ]
  },
  {
   "cell_type": "markdown",
   "id": "2b1acb55",
   "metadata": {},
   "source": [
    "**Task 4.2.5:** Change `wrangle` function so that it drops the `\"count_floors_pre_eq\"` column. Don't forget to rerun all the cells above. \n",
    "\n",
    "- [<span id='technique'>Drop a column from a DataFrame using <span id='tool'>pandas</span></span>.](../%40textbook/03-pandas-getting-started.ipynb#Dropping-Columns)"
   ]
  },
  {
   "cell_type": "code",
   "execution_count": 13,
   "id": "de0cc1e1",
   "metadata": {},
   "outputs": [],
   "source": [
    "# Check your work\n",
    "assert (\n",
    "    \"count_floors_pre_eq\" not in df.columns\n",
    "), \"Did you drop the `'count_floors_pre_eq'` column?\""
   ]
  },
  {
   "cell_type": "markdown",
   "id": "d8289273",
   "metadata": {},
   "source": [
    "Before we build our model, let's see if we can identify any obvious differences between houses that were severely damaged in the earthquake (`\"severe_damage\"==1`) those that were not (`\"severe_damage\"==0`). Let's start with a numerical feature. "
   ]
  },
  {
   "cell_type": "markdown",
   "id": "ed2f2038",
   "metadata": {},
   "source": [
    "**Task 4.2.6:** Use seaborn to create a boxplot that shows the distributions of the `\"height_ft_pre_eq\"` column for both groups in the `\"severe_damage\"` column. Remember to label your axes. \n",
    "\n",
    "- [What's a <span id='term'>boxplot</span>?](../%40textbook/06-visualization-matplotlib.ipynb#Boxplots)\n",
    "- [<span id='technique'>Create a boxplot using <span id='tool'>Matplotlib</span></span>.](../%40textbook/06-visualization-matplotlib.ipynb#Boxplots)"
   ]
  },
  {
   "cell_type": "code",
   "execution_count": 14,
   "id": "ce8eac9f",
   "metadata": {},
   "outputs": [
    {
     "data": {
      "text/plain": [
       "Text(0, 0.5, 'Height(ft) Pre Earthquake')"
      ]
     },
     "execution_count": 14,
     "metadata": {},
     "output_type": "execute_result"
    },
    {
     "data": {
      "image/png": "[encoded data removed]",
      "text/plain": [
       "<Figure size 432x288 with 1 Axes>"
      ]
     },
     "metadata": {
      "needs_background": "light"
     },
     "output_type": "display_data"
    }
   ],
   "source": [
    "# Create boxplot\n",
    "sns.boxplot(x=\"severe_damage\",y=\"height_ft_pre_eq\",data=df)\n",
    "\n",
    "# Label axes\n",
    "plt.xlabel(\"Severe Damage\")\n",
    "plt.ylabel(\"Height(ft) Pre Earthquake\")"
   ]
  },
  {
   "cell_type": "markdown",
   "id": "55367cb8",
   "metadata": {},
   "source": [
    "Before we move on to the many categorical features in this dataset, it's a good idea to see the balance between our two classes. What percentage were severely damaged, what percentage were not? "
   ]
  },
  {
   "cell_type": "code",
   "execution_count": 15,
   "id": "7f2f9bbd",
   "metadata": {},
   "outputs": [
    {
     "data": {
      "text/plain": [
       "1    0.642597\n",
       "0    0.357403\n",
       "Name: severe_damage, dtype: float64"
      ]
     },
     "execution_count": 15,
     "metadata": {},
     "output_type": "execute_result"
    }
   ],
   "source": [
    "df[\"severe_damage\"].value_counts(normalize=True)"
   ]
  },
  {
   "cell_type": "markdown",
   "id": "60bb387a",
   "metadata": {},
   "source": [
    "**Task 4.2.7:** Create a bar chart of the value counts for the `\"severe_damage\"` column. You want to calculate the relative frequencies of the classes, not the raw count, so be sure to set the `normalize` argument to `True`.\n",
    "\n",
    "- [What's a <span id='term'>bar chart</span>?](../%40textbook/06-visualization-matplotlib.ipynb#Bar-Charts)\n",
    "- [What's a <span id='technique'>majority class</span>?](../%40textbook/14-ml-classification.ipynb#Majority-and-Minority-Classes)\n",
    "- [What's a <span id='technique'>minority class</span>?](../%40textbook/14-ml-classification.ipynb#Majority-and-Minority-Classes)\n",
    "- [Aggregate data in a Series using `value_counts` in pandas.](../%40textbook/04-pandas-advanced.ipynb#Working-with-value_counts-in-a-Series)\n",
    "- [<span id='technique'>Create a bar chart using <span id='tool'>pandas</span></span>.](../%40textbook/07-visualization-pandas.ipynb#Bar-Charts)"
   ]
  },
  {
   "cell_type": "code",
   "execution_count": 16,
   "id": "5c98fa60",
   "metadata": {},
   "outputs": [
    {
     "data": {
      "image/png": "[encoded data removed]",
      "text/plain": [
       "<Figure size 432x288 with 1 Axes>"
      ]
     },
     "metadata": {
      "needs_background": "light"
     },
     "output_type": "display_data"
    }
   ],
   "source": [
    "# Plot value counts of `\"severe_damage\"`\n",
    "df[\"severe_damage\"].value_counts(normalize=True).plot(\n",
    "    kind=\"bar\",\n",
    "    xlabel=\"Class\",\n",
    "    ylabel=\"Relative Frequency\",\n",
    "    title= \"Class Balance\"\n",
    ");"
   ]
  },
  {
   "cell_type": "markdown",
   "id": "fcb8eba9",
   "metadata": {},
   "source": [
    "**Task 4.2.8:** Create two variables, `majority_class_prop` and `minority_class_prop`, to store the normalized value counts for the two classes in `df[\"severe_damage\"]`. \n",
    "\n",
    "- [Aggregate data in a Series using `value_counts` in pandas.](../%40textbook/04-pandas-advanced.ipynb#Working-with-value_counts-in-a-Series)"
   ]
  },
  {
   "cell_type": "code",
   "execution_count": 17,
   "id": "ae3c506c",
   "metadata": {},
   "outputs": [
    {
     "name": "stdout",
     "output_type": "stream",
     "text": [
      "0.6425969845841097 0.3574030154158902\n"
     ]
    }
   ],
   "source": [
    "majority_class_prop, minority_class_prop =df[\"severe_damage\"].value_counts(normalize=True)\n",
    "print(majority_class_prop, minority_class_prop)"
   ]
  },
  {
   "cell_type": "code",
   "execution_count": 18,
   "id": "d0affaa1",
   "metadata": {},
   "outputs": [],
   "source": [
    "# Check your work\n",
    "assert (\n",
    "    majority_class_prop < 1\n",
    "), \"`majority_class_prop` should be a floating point number between 0 and 1.\"\n",
    "assert (\n",
    "    minority_class_prop < 1\n",
    "), \"`minority_class_prop` should be a floating point number between 0 and 1.\""
   ]
  },
  {
   "cell_type": "markdown",
   "id": "bb3266bf",
   "metadata": {},
   "source": [
    "**Task 4.2.9:** Are buildings with certain foundation types more likely to suffer severe damage? Create a pivot table of `df` where the index is `\"foundation_type\"` and the values come from the `\"severe_damage\"` column, aggregated by the mean.\n",
    "\n",
    "- [What's a <span id='term'>pivot table</span>?](../%40textbook/04-pandas-advanced.ipynb#Pivot-Tables)\n",
    "- [<span id='technique'>Reshape a DataFrame based on column values in <span id='tool'>pandas</span></span>.](../%40textbook/04-pandas-advanced.ipynb#Reshape-a-DataFrame-based-on-column-values)"
   ]
  },
  {
   "cell_type": "code",
   "execution_count": 19,
   "id": "a8755050",
   "metadata": {
    "scrolled": true
   },
   "outputs": [
    {
     "data": {
      "text/html": [
       "<div>\n",
       "<style scoped>\n",
       "    .dataframe tbody tr th:only-of-type {\n",
       "        vertical-align: middle;\n",
       "    }\n",
       "\n",
       "    .dataframe tbody tr th {\n",
       "        vertical-align: top;\n",
       "    }\n",
       "\n",
       "    .dataframe thead th {\n",
       "        text-align: right;\n",
       "    }\n",
       "</style>\n",
       "<table border=\"1\" class=\"dataframe\">\n",
       "  <thead>\n",
       "    <tr style=\"text-align: right;\">\n",
       "      <th></th>\n",
       "      <th>age_building</th>\n",
       "      <th>plinth_area_sq_ft</th>\n",
       "      <th>height_ft_pre_eq</th>\n",
       "      <th>land_surface_condition</th>\n",
       "      <th>foundation_type</th>\n",
       "      <th>roof_type</th>\n",
       "      <th>ground_floor_type</th>\n",
       "      <th>other_floor_type</th>\n",
       "      <th>position</th>\n",
       "      <th>plan_configuration</th>\n",
       "      <th>superstructure</th>\n",
       "      <th>severe_damage</th>\n",
       "    </tr>\n",
       "    <tr>\n",
       "      <th>b_id</th>\n",
       "      <th></th>\n",
       "      <th></th>\n",
       "      <th></th>\n",
       "      <th></th>\n",
       "      <th></th>\n",
       "      <th></th>\n",
       "      <th></th>\n",
       "      <th></th>\n",
       "      <th></th>\n",
       "      <th></th>\n",
       "      <th></th>\n",
       "      <th></th>\n",
       "    </tr>\n",
       "  </thead>\n",
       "  <tbody>\n",
       "    <tr>\n",
       "      <th>164002</th>\n",
       "      <td>20</td>\n",
       "      <td>560</td>\n",
       "      <td>18</td>\n",
       "      <td>Flat</td>\n",
       "      <td>Mud mortar-Stone/Brick</td>\n",
       "      <td>Bamboo/Timber-Light roof</td>\n",
       "      <td>Mud</td>\n",
       "      <td>TImber/Bamboo-Mud</td>\n",
       "      <td>Not attached</td>\n",
       "      <td>Rectangular</td>\n",
       "      <td>Stone, mud mortar</td>\n",
       "      <td>0</td>\n",
       "    </tr>\n",
       "    <tr>\n",
       "      <th>164081</th>\n",
       "      <td>21</td>\n",
       "      <td>200</td>\n",
       "      <td>12</td>\n",
       "      <td>Flat</td>\n",
       "      <td>Mud mortar-Stone/Brick</td>\n",
       "      <td>Bamboo/Timber-Light roof</td>\n",
       "      <td>Mud</td>\n",
       "      <td>TImber/Bamboo-Mud</td>\n",
       "      <td>Not attached</td>\n",
       "      <td>Rectangular</td>\n",
       "      <td>Stone, mud mortar</td>\n",
       "      <td>0</td>\n",
       "    </tr>\n",
       "    <tr>\n",
       "      <th>164089</th>\n",
       "      <td>18</td>\n",
       "      <td>315</td>\n",
       "      <td>20</td>\n",
       "      <td>Flat</td>\n",
       "      <td>Mud mortar-Stone/Brick</td>\n",
       "      <td>Bamboo/Timber-Light roof</td>\n",
       "      <td>Mud</td>\n",
       "      <td>TImber/Bamboo-Mud</td>\n",
       "      <td>Not attached</td>\n",
       "      <td>Rectangular</td>\n",
       "      <td>Stone, mud mortar</td>\n",
       "      <td>0</td>\n",
       "    </tr>\n",
       "    <tr>\n",
       "      <th>164098</th>\n",
       "      <td>45</td>\n",
       "      <td>290</td>\n",
       "      <td>13</td>\n",
       "      <td>Flat</td>\n",
       "      <td>Mud mortar-Stone/Brick</td>\n",
       "      <td>Bamboo/Timber-Light roof</td>\n",
       "      <td>Mud</td>\n",
       "      <td>TImber/Bamboo-Mud</td>\n",
       "      <td>Not attached</td>\n",
       "      <td>Rectangular</td>\n",
       "      <td>Stone, mud mortar</td>\n",
       "      <td>0</td>\n",
       "    </tr>\n",
       "    <tr>\n",
       "      <th>164103</th>\n",
       "      <td>21</td>\n",
       "      <td>230</td>\n",
       "      <td>13</td>\n",
       "      <td>Flat</td>\n",
       "      <td>Mud mortar-Stone/Brick</td>\n",
       "      <td>Bamboo/Timber-Light roof</td>\n",
       "      <td>Mud</td>\n",
       "      <td>TImber/Bamboo-Mud</td>\n",
       "      <td>Not attached</td>\n",
       "      <td>Rectangular</td>\n",
       "      <td>Stone, mud mortar</td>\n",
       "      <td>0</td>\n",
       "    </tr>\n",
       "  </tbody>\n",
       "</table>\n",
       "</div>"
      ],
      "text/plain": [
       "        age_building  plinth_area_sq_ft  height_ft_pre_eq  \\\n",
       "b_id                                                        \n",
       "164002            20                560                18   \n",
       "164081            21                200                12   \n",
       "164089            18                315                20   \n",
       "164098            45                290                13   \n",
       "164103            21                230                13   \n",
       "\n",
       "       land_surface_condition         foundation_type  \\\n",
       "b_id                                                    \n",
       "164002                   Flat  Mud mortar-Stone/Brick   \n",
       "164081                   Flat  Mud mortar-Stone/Brick   \n",
       "164089                   Flat  Mud mortar-Stone/Brick   \n",
       "164098                   Flat  Mud mortar-Stone/Brick   \n",
       "164103                   Flat  Mud mortar-Stone/Brick   \n",
       "\n",
       "                       roof_type ground_floor_type   other_floor_type  \\\n",
       "b_id                                                                    \n",
       "164002  Bamboo/Timber-Light roof               Mud  TImber/Bamboo-Mud   \n",
       "164081  Bamboo/Timber-Light roof               Mud  TImber/Bamboo-Mud   \n",
       "164089  Bamboo/Timber-Light roof               Mud  TImber/Bamboo-Mud   \n",
       "164098  Bamboo/Timber-Light roof               Mud  TImber/Bamboo-Mud   \n",
       "164103  Bamboo/Timber-Light roof               Mud  TImber/Bamboo-Mud   \n",
       "\n",
       "            position plan_configuration     superstructure  severe_damage  \n",
       "b_id                                                                       \n",
       "164002  Not attached        Rectangular  Stone, mud mortar              0  \n",
       "164081  Not attached        Rectangular  Stone, mud mortar              0  \n",
       "164089  Not attached        Rectangular  Stone, mud mortar              0  \n",
       "164098  Not attached        Rectangular  Stone, mud mortar              0  \n",
       "164103  Not attached        Rectangular  Stone, mud mortar              0  "
      ]
     },
     "execution_count": 19,
     "metadata": {},
     "output_type": "execute_result"
    }
   ],
   "source": [
    "df.head()"
   ]
  },
  {
   "cell_type": "code",
   "execution_count": 20,
   "id": "13fc6515",
   "metadata": {
    "scrolled": true
   },
   "outputs": [
    {
     "data": {
      "text/plain": [
       "Mud mortar-Stone/Brick    63352\n",
       "RC                         3432\n",
       "Cement-Stone/Brick         2337\n",
       "Bamboo/Timber              1080\n",
       "Other                       635\n",
       "Name: foundation_type, dtype: int64"
      ]
     },
     "execution_count": 20,
     "metadata": {},
     "output_type": "execute_result"
    }
   ],
   "source": [
    "df[\"foundation_type\"].value_counts()"
   ]
  },
  {
   "cell_type": "code",
   "execution_count": 21,
   "id": "ac4b5323",
   "metadata": {
    "scrolled": true
   },
   "outputs": [
    {
     "data": {
      "text/html": [
       "<div>\n",
       "<style scoped>\n",
       "    .dataframe tbody tr th:only-of-type {\n",
       "        vertical-align: middle;\n",
       "    }\n",
       "\n",
       "    .dataframe tbody tr th {\n",
       "        vertical-align: top;\n",
       "    }\n",
       "\n",
       "    .dataframe thead th {\n",
       "        text-align: right;\n",
       "    }\n",
       "</style>\n",
       "<table border=\"1\" class=\"dataframe\">\n",
       "  <thead>\n",
       "    <tr style=\"text-align: right;\">\n",
       "      <th></th>\n",
       "      <th>severe_damage</th>\n",
       "    </tr>\n",
       "    <tr>\n",
       "      <th>foundation_type</th>\n",
       "      <th></th>\n",
       "    </tr>\n",
       "  </thead>\n",
       "  <tbody>\n",
       "    <tr>\n",
       "      <th>RC</th>\n",
       "      <td>0.026224</td>\n",
       "    </tr>\n",
       "    <tr>\n",
       "      <th>Bamboo/Timber</th>\n",
       "      <td>0.324074</td>\n",
       "    </tr>\n",
       "    <tr>\n",
       "      <th>Cement-Stone/Brick</th>\n",
       "      <td>0.421908</td>\n",
       "    </tr>\n",
       "    <tr>\n",
       "      <th>Mud mortar-Stone/Brick</th>\n",
       "      <td>0.687792</td>\n",
       "    </tr>\n",
       "    <tr>\n",
       "      <th>Other</th>\n",
       "      <td>0.818898</td>\n",
       "    </tr>\n",
       "  </tbody>\n",
       "</table>\n",
       "</div>"
      ],
      "text/plain": [
       "                        severe_damage\n",
       "foundation_type                      \n",
       "RC                           0.026224\n",
       "Bamboo/Timber                0.324074\n",
       "Cement-Stone/Brick           0.421908\n",
       "Mud mortar-Stone/Brick       0.687792\n",
       "Other                        0.818898"
      ]
     },
     "execution_count": 21,
     "metadata": {},
     "output_type": "execute_result"
    }
   ],
   "source": [
    "# Create pivot table\n",
    "foundation_pivot = pd.pivot_table(df,index=\"foundation_type\",values=\"severe_damage\",aggfunc=np.mean).sort_values(by=\"severe_damage\")\n",
    "foundation_pivot"
   ]
  },
  {
   "cell_type": "markdown",
   "id": "0d115547",
   "metadata": {},
   "source": [
    "**Task 4.2.10:** How do the proportions in `foundation_pivot` compare to the proportions for our majority and minority classes? Plot `foundation_pivot` as horizontal bar chart, adding vertical lines at the values for `majority_class_prop` and `minority_class_prop`.\n",
    "\n",
    "- [What's a <span id='term'>bar chart</span>?](../%40textbook/07-visualization-pandas.ipynb#Bar-Charts)\n",
    "- [<span id='technique'>Add a vertical or horizontal line across a plot using <span id='term'>Matplotlib</span></span>.](../%40textbook/06-visualization-matplotlib.ipynb#Add-a-vertical-or-horizontal-line-across-a-plot)\n",
    "- [<span id='technique'>Create a bar chart using <span id='tool'>pandas</span></span>.](../%40textbook/07-visualization-pandas.ipynb#Bar-Charts)"
   ]
  },
  {
   "cell_type": "code",
   "execution_count": 22,
   "id": "74867ec1",
   "metadata": {},
   "outputs": [
    {
     "data": {
      "text/plain": [
       "''"
      ]
     },
     "execution_count": 22,
     "metadata": {},
     "output_type": "execute_result"
    },
    {
     "data": {
      "image/png": "[encoded data removed]",
      "text/plain": [
       "<Figure size 432x288 with 1 Axes>"
      ]
     },
     "metadata": {
      "needs_background": "light"
     },
     "output_type": "display_data"
    }
   ],
   "source": [
    "# Plot bar chart of `foundation_pivot`\n",
    "foundation_pivot.plot(\n",
    "    kind=\"barh\",legend=None    \n",
    ")\n",
    "\n",
    "plt.axvline(\n",
    "    majority_class_prop,color='red',linestyle='--',label=\"Majority Class\"\n",
    ")\n",
    "plt.axvline(\n",
    "    minority_class_prop,color='green',linestyle='--',label=\"Minority Class\"\n",
    ")\n",
    "plt.legend(loc=\"lower right\")\n",
    ";"
   ]
  },
  {
   "cell_type": "markdown",
   "id": "68002eb3",
   "metadata": {},
   "source": [
    "**Task 4.2.11:** Combine the [`select_dtypes`](https://pandas.pydata.org/docs/reference/api/pandas.DataFrame.select_dtypes.html) and [`nunique`](https://pandas.pydata.org/docs/reference/api/pandas.DataFrame.nunique.html) methods to see if there are any high- or low-cardinality categorical features in the dataset. \n",
    "\n",
    "- [What are <span id='term'>high- and low-cardinality features</span>?](../%40textbook/14-ml-classification.ipynb#High-cardinality-Features)\n",
    "- [<span id='technique'>Determine the unique values in a column using <span id='tool'>pandas</span></span>.](../%40textbook/03-pandas-getting-started.ipynb#Determine-the-unique-values-in-a-column) \n",
    "- [<span id='technique'>Subset a DataFrame's columns based on the column data types in <span id='tool'>pandas</span></span>.](../%40textbook/04-pandas-advanced.ipynb#Subset-the-Columns-of-a-DataFrame-Based-on-Data-Types)"
   ]
  },
  {
   "cell_type": "code",
   "execution_count": 23,
   "id": "06e6b4c2",
   "metadata": {
    "scrolled": true
   },
   "outputs": [
    {
     "data": {
      "text/plain": [
       "land_surface_condition     3\n",
       "foundation_type            5\n",
       "roof_type                  3\n",
       "ground_floor_type          5\n",
       "other_floor_type           4\n",
       "position                   4\n",
       "plan_configuration        10\n",
       "superstructure            11\n",
       "dtype: int64"
      ]
     },
     "execution_count": 23,
     "metadata": {},
     "output_type": "execute_result"
    }
   ],
   "source": [
    "# Check for high- and low-cardinality categorical features\n",
    "df.select_dtypes(\"object\").nunique()"
   ]
  },
  {
   "cell_type": "code",
   "execution_count": 62,
   "id": "1de77c1c",
   "metadata": {},
   "outputs": [
    {
     "data": {
      "text/html": [
       "<div>\n",
       "<style scoped>\n",
       "    .dataframe tbody tr th:only-of-type {\n",
       "        vertical-align: middle;\n",
       "    }\n",
       "\n",
       "    .dataframe tbody tr th {\n",
       "        vertical-align: top;\n",
       "    }\n",
       "\n",
       "    .dataframe thead th {\n",
       "        text-align: right;\n",
       "    }\n",
       "</style>\n",
       "<table border=\"1\" class=\"dataframe\">\n",
       "  <thead>\n",
       "    <tr style=\"text-align: right;\">\n",
       "      <th></th>\n",
       "      <th>age_building</th>\n",
       "      <th>plinth_area_sq_ft</th>\n",
       "      <th>height_ft_pre_eq</th>\n",
       "      <th>land_surface_condition</th>\n",
       "      <th>foundation_type</th>\n",
       "      <th>roof_type</th>\n",
       "      <th>ground_floor_type</th>\n",
       "      <th>other_floor_type</th>\n",
       "      <th>position</th>\n",
       "      <th>plan_configuration</th>\n",
       "      <th>superstructure</th>\n",
       "      <th>severe_damage</th>\n",
       "    </tr>\n",
       "    <tr>\n",
       "      <th>b_id</th>\n",
       "      <th></th>\n",
       "      <th></th>\n",
       "      <th></th>\n",
       "      <th></th>\n",
       "      <th></th>\n",
       "      <th></th>\n",
       "      <th></th>\n",
       "      <th></th>\n",
       "      <th></th>\n",
       "      <th></th>\n",
       "      <th></th>\n",
       "      <th></th>\n",
       "    </tr>\n",
       "  </thead>\n",
       "  <tbody>\n",
       "    <tr>\n",
       "      <th>164002</th>\n",
       "      <td>20</td>\n",
       "      <td>560</td>\n",
       "      <td>18</td>\n",
       "      <td>Flat</td>\n",
       "      <td>Mud mortar-Stone/Brick</td>\n",
       "      <td>Bamboo/Timber-Light roof</td>\n",
       "      <td>Mud</td>\n",
       "      <td>TImber/Bamboo-Mud</td>\n",
       "      <td>Not attached</td>\n",
       "      <td>Rectangular</td>\n",
       "      <td>Stone, mud mortar</td>\n",
       "      <td>0</td>\n",
       "    </tr>\n",
       "    <tr>\n",
       "      <th>164081</th>\n",
       "      <td>21</td>\n",
       "      <td>200</td>\n",
       "      <td>12</td>\n",
       "      <td>Flat</td>\n",
       "      <td>Mud mortar-Stone/Brick</td>\n",
       "      <td>Bamboo/Timber-Light roof</td>\n",
       "      <td>Mud</td>\n",
       "      <td>TImber/Bamboo-Mud</td>\n",
       "      <td>Not attached</td>\n",
       "      <td>Rectangular</td>\n",
       "      <td>Stone, mud mortar</td>\n",
       "      <td>0</td>\n",
       "    </tr>\n",
       "    <tr>\n",
       "      <th>164089</th>\n",
       "      <td>18</td>\n",
       "      <td>315</td>\n",
       "      <td>20</td>\n",
       "      <td>Flat</td>\n",
       "      <td>Mud mortar-Stone/Brick</td>\n",
       "      <td>Bamboo/Timber-Light roof</td>\n",
       "      <td>Mud</td>\n",
       "      <td>TImber/Bamboo-Mud</td>\n",
       "      <td>Not attached</td>\n",
       "      <td>Rectangular</td>\n",
       "      <td>Stone, mud mortar</td>\n",
       "      <td>0</td>\n",
       "    </tr>\n",
       "    <tr>\n",
       "      <th>164098</th>\n",
       "      <td>45</td>\n",
       "      <td>290</td>\n",
       "      <td>13</td>\n",
       "      <td>Flat</td>\n",
       "      <td>Mud mortar-Stone/Brick</td>\n",
       "      <td>Bamboo/Timber-Light roof</td>\n",
       "      <td>Mud</td>\n",
       "      <td>TImber/Bamboo-Mud</td>\n",
       "      <td>Not attached</td>\n",
       "      <td>Rectangular</td>\n",
       "      <td>Stone, mud mortar</td>\n",
       "      <td>0</td>\n",
       "    </tr>\n",
       "    <tr>\n",
       "      <th>164103</th>\n",
       "      <td>21</td>\n",
       "      <td>230</td>\n",
       "      <td>13</td>\n",
       "      <td>Flat</td>\n",
       "      <td>Mud mortar-Stone/Brick</td>\n",
       "      <td>Bamboo/Timber-Light roof</td>\n",
       "      <td>Mud</td>\n",
       "      <td>TImber/Bamboo-Mud</td>\n",
       "      <td>Not attached</td>\n",
       "      <td>Rectangular</td>\n",
       "      <td>Stone, mud mortar</td>\n",
       "      <td>0</td>\n",
       "    </tr>\n",
       "  </tbody>\n",
       "</table>\n",
       "</div>"
      ],
      "text/plain": [
       "        age_building  plinth_area_sq_ft  height_ft_pre_eq  \\\n",
       "b_id                                                        \n",
       "164002            20                560                18   \n",
       "164081            21                200                12   \n",
       "164089            18                315                20   \n",
       "164098            45                290                13   \n",
       "164103            21                230                13   \n",
       "\n",
       "       land_surface_condition         foundation_type  \\\n",
       "b_id                                                    \n",
       "164002                   Flat  Mud mortar-Stone/Brick   \n",
       "164081                   Flat  Mud mortar-Stone/Brick   \n",
       "164089                   Flat  Mud mortar-Stone/Brick   \n",
       "164098                   Flat  Mud mortar-Stone/Brick   \n",
       "164103                   Flat  Mud mortar-Stone/Brick   \n",
       "\n",
       "                       roof_type ground_floor_type   other_floor_type  \\\n",
       "b_id                                                                    \n",
       "164002  Bamboo/Timber-Light roof               Mud  TImber/Bamboo-Mud   \n",
       "164081  Bamboo/Timber-Light roof               Mud  TImber/Bamboo-Mud   \n",
       "164089  Bamboo/Timber-Light roof               Mud  TImber/Bamboo-Mud   \n",
       "164098  Bamboo/Timber-Light roof               Mud  TImber/Bamboo-Mud   \n",
       "164103  Bamboo/Timber-Light roof               Mud  TImber/Bamboo-Mud   \n",
       "\n",
       "            position plan_configuration     superstructure  severe_damage  \n",
       "b_id                                                                       \n",
       "164002  Not attached        Rectangular  Stone, mud mortar              0  \n",
       "164081  Not attached        Rectangular  Stone, mud mortar              0  \n",
       "164089  Not attached        Rectangular  Stone, mud mortar              0  \n",
       "164098  Not attached        Rectangular  Stone, mud mortar              0  \n",
       "164103  Not attached        Rectangular  Stone, mud mortar              0  "
      ]
     },
     "execution_count": 62,
     "metadata": {},
     "output_type": "execute_result"
    }
   ],
   "source": [
    "df.head()"
   ]
  },
  {
   "cell_type": "markdown",
   "id": "c0f37cbd",
   "metadata": {},
   "source": [
    "## Split"
   ]
  },
  {
   "cell_type": "markdown",
   "id": "5bf5b09c",
   "metadata": {},
   "source": [
    "**Task 4.2.12:** Create your feature matrix `X` and target vector `y`. Your target is `\"severe_damage\"`. \n",
    "\n",
    "- [What's a <span id='term'>feature matrix</span>?](../%40textbook/15-ml-regression.ipynb#Linear-Regression)\n",
    "- [What's a <span id='term'>target vector</span>?](../%40textbook/15-ml-regression.ipynb#Linear-Regression)\n",
    "- [<span id='technique'>Subset a DataFrame by selecting one or more columns in <span id='tool'>pandas</span></span>.](../%40textbook/04-pandas-advanced.ipynb#Subset-a-DataFrame-by-Selecting-One-or-More-Columns) \n",
    "- [<span id='technique'>Select a Series from a DataFrame in <span id='tool'>pandas</span></span>.](../%40textbook/04-pandas-advanced.ipynb#Combine-multiple-categories-in-a-Series) "
   ]
  },
  {
   "cell_type": "code",
   "execution_count": 24,
   "id": "619ce92b",
   "metadata": {},
   "outputs": [],
   "source": [
    "target = \"severe_damage\"\n",
    "X = df.drop(columns=target)\n",
    "y = df[target]"
   ]
  },
  {
   "cell_type": "code",
   "execution_count": 26,
   "id": "914aa23f",
   "metadata": {
    "scrolled": true
   },
   "outputs": [
    {
     "data": {
      "text/html": [
       "<div>\n",
       "<style scoped>\n",
       "    .dataframe tbody tr th:only-of-type {\n",
       "        vertical-align: middle;\n",
       "    }\n",
       "\n",
       "    .dataframe tbody tr th {\n",
       "        vertical-align: top;\n",
       "    }\n",
       "\n",
       "    .dataframe thead th {\n",
       "        text-align: right;\n",
       "    }\n",
       "</style>\n",
       "<table border=\"1\" class=\"dataframe\">\n",
       "  <thead>\n",
       "    <tr style=\"text-align: right;\">\n",
       "      <th></th>\n",
       "      <th>age_building</th>\n",
       "      <th>plinth_area_sq_ft</th>\n",
       "      <th>height_ft_pre_eq</th>\n",
       "      <th>land_surface_condition</th>\n",
       "      <th>foundation_type</th>\n",
       "      <th>roof_type</th>\n",
       "      <th>ground_floor_type</th>\n",
       "      <th>other_floor_type</th>\n",
       "      <th>position</th>\n",
       "      <th>plan_configuration</th>\n",
       "      <th>superstructure</th>\n",
       "    </tr>\n",
       "    <tr>\n",
       "      <th>b_id</th>\n",
       "      <th></th>\n",
       "      <th></th>\n",
       "      <th></th>\n",
       "      <th></th>\n",
       "      <th></th>\n",
       "      <th></th>\n",
       "      <th></th>\n",
       "      <th></th>\n",
       "      <th></th>\n",
       "      <th></th>\n",
       "      <th></th>\n",
       "    </tr>\n",
       "  </thead>\n",
       "  <tbody>\n",
       "    <tr>\n",
       "      <th>164002</th>\n",
       "      <td>20</td>\n",
       "      <td>560</td>\n",
       "      <td>18</td>\n",
       "      <td>Flat</td>\n",
       "      <td>Mud mortar-Stone/Brick</td>\n",
       "      <td>Bamboo/Timber-Light roof</td>\n",
       "      <td>Mud</td>\n",
       "      <td>TImber/Bamboo-Mud</td>\n",
       "      <td>Not attached</td>\n",
       "      <td>Rectangular</td>\n",
       "      <td>Stone, mud mortar</td>\n",
       "    </tr>\n",
       "    <tr>\n",
       "      <th>164081</th>\n",
       "      <td>21</td>\n",
       "      <td>200</td>\n",
       "      <td>12</td>\n",
       "      <td>Flat</td>\n",
       "      <td>Mud mortar-Stone/Brick</td>\n",
       "      <td>Bamboo/Timber-Light roof</td>\n",
       "      <td>Mud</td>\n",
       "      <td>TImber/Bamboo-Mud</td>\n",
       "      <td>Not attached</td>\n",
       "      <td>Rectangular</td>\n",
       "      <td>Stone, mud mortar</td>\n",
       "    </tr>\n",
       "    <tr>\n",
       "      <th>164089</th>\n",
       "      <td>18</td>\n",
       "      <td>315</td>\n",
       "      <td>20</td>\n",
       "      <td>Flat</td>\n",
       "      <td>Mud mortar-Stone/Brick</td>\n",
       "      <td>Bamboo/Timber-Light roof</td>\n",
       "      <td>Mud</td>\n",
       "      <td>TImber/Bamboo-Mud</td>\n",
       "      <td>Not attached</td>\n",
       "      <td>Rectangular</td>\n",
       "      <td>Stone, mud mortar</td>\n",
       "    </tr>\n",
       "    <tr>\n",
       "      <th>164098</th>\n",
       "      <td>45</td>\n",
       "      <td>290</td>\n",
       "      <td>13</td>\n",
       "      <td>Flat</td>\n",
       "      <td>Mud mortar-Stone/Brick</td>\n",
       "      <td>Bamboo/Timber-Light roof</td>\n",
       "      <td>Mud</td>\n",
       "      <td>TImber/Bamboo-Mud</td>\n",
       "      <td>Not attached</td>\n",
       "      <td>Rectangular</td>\n",
       "      <td>Stone, mud mortar</td>\n",
       "    </tr>\n",
       "    <tr>\n",
       "      <th>164103</th>\n",
       "      <td>21</td>\n",
       "      <td>230</td>\n",
       "      <td>13</td>\n",
       "      <td>Flat</td>\n",
       "      <td>Mud mortar-Stone/Brick</td>\n",
       "      <td>Bamboo/Timber-Light roof</td>\n",
       "      <td>Mud</td>\n",
       "      <td>TImber/Bamboo-Mud</td>\n",
       "      <td>Not attached</td>\n",
       "      <td>Rectangular</td>\n",
       "      <td>Stone, mud mortar</td>\n",
       "    </tr>\n",
       "  </tbody>\n",
       "</table>\n",
       "</div>"
      ],
      "text/plain": [
       "        age_building  plinth_area_sq_ft  height_ft_pre_eq  \\\n",
       "b_id                                                        \n",
       "164002            20                560                18   \n",
       "164081            21                200                12   \n",
       "164089            18                315                20   \n",
       "164098            45                290                13   \n",
       "164103            21                230                13   \n",
       "\n",
       "       land_surface_condition         foundation_type  \\\n",
       "b_id                                                    \n",
       "164002                   Flat  Mud mortar-Stone/Brick   \n",
       "164081                   Flat  Mud mortar-Stone/Brick   \n",
       "164089                   Flat  Mud mortar-Stone/Brick   \n",
       "164098                   Flat  Mud mortar-Stone/Brick   \n",
       "164103                   Flat  Mud mortar-Stone/Brick   \n",
       "\n",
       "                       roof_type ground_floor_type   other_floor_type  \\\n",
       "b_id                                                                    \n",
       "164002  Bamboo/Timber-Light roof               Mud  TImber/Bamboo-Mud   \n",
       "164081  Bamboo/Timber-Light roof               Mud  TImber/Bamboo-Mud   \n",
       "164089  Bamboo/Timber-Light roof               Mud  TImber/Bamboo-Mud   \n",
       "164098  Bamboo/Timber-Light roof               Mud  TImber/Bamboo-Mud   \n",
       "164103  Bamboo/Timber-Light roof               Mud  TImber/Bamboo-Mud   \n",
       "\n",
       "            position plan_configuration     superstructure  \n",
       "b_id                                                        \n",
       "164002  Not attached        Rectangular  Stone, mud mortar  \n",
       "164081  Not attached        Rectangular  Stone, mud mortar  \n",
       "164089  Not attached        Rectangular  Stone, mud mortar  \n",
       "164098  Not attached        Rectangular  Stone, mud mortar  \n",
       "164103  Not attached        Rectangular  Stone, mud mortar  "
      ]
     },
     "execution_count": 26,
     "metadata": {},
     "output_type": "execute_result"
    }
   ],
   "source": [
    "X.head()"
   ]
  },
  {
   "cell_type": "code",
   "execution_count": 27,
   "id": "472342c3",
   "metadata": {},
   "outputs": [
    {
     "data": {
      "text/plain": [
       "b_id\n",
       "164002    0\n",
       "164081    0\n",
       "164089    0\n",
       "164098    0\n",
       "164103    0\n",
       "Name: severe_damage, dtype: int32"
      ]
     },
     "execution_count": 27,
     "metadata": {},
     "output_type": "execute_result"
    }
   ],
   "source": [
    "y.head()"
   ]
  },
  {
   "cell_type": "markdown",
   "id": "5fa1a24d",
   "metadata": {},
   "source": [
    "**Task 4.2.13:** Divide your data (`X` and `y`) into training and test sets using a randomized train-test split. Your test set should be 20% of your total data. And don't forget to set a `random_state` for reproducibility. \n",
    "\n",
    "- [<span id='technique'>Perform a randomized train-test split using <span id='tool'>scikit-learn</span></span>.](../%40textbook/14-ml-classification.ipynb#Randomized-Train-Test-split)"
   ]
  },
  {
   "cell_type": "code",
   "execution_count": 30,
   "id": "210355b4",
   "metadata": {},
   "outputs": [
    {
     "name": "stdout",
     "output_type": "stream",
     "text": [
      "X_train shape: (56668, 11)\n",
      "y_train shape: (56668,)\n",
      "X_test shape: (14168, 11)\n",
      "y_test shape: (14168,)\n"
     ]
    }
   ],
   "source": [
    "X_train, X_test, y_train, y_test = train_test_split(\n",
    "    X,y,test_size=0.2,random_state=42\n",
    ")\n",
    "\n",
    "print(\"X_train shape:\", X_train.shape)\n",
    "print(\"y_train shape:\", y_train.shape)\n",
    "print(\"X_test shape:\", X_test.shape)\n",
    "print(\"y_test shape:\", y_test.shape)"
   ]
  },
  {
   "cell_type": "markdown",
   "id": "38309e6d",
   "metadata": {},
   "source": [
    "# Build Model"
   ]
  },
  {
   "cell_type": "markdown",
   "id": "01c42f5d",
   "metadata": {},
   "source": [
    "## Baseline"
   ]
  },
  {
   "cell_type": "markdown",
   "id": "a57e5e1c",
   "metadata": {},
   "source": [
    "**Task 4.2.14:** Calculate the baseline accuracy score for your model.\n",
    "\n",
    "- [What's <span id='tool'>accuracy score</span>?](../%40textbook/14-ml-classification.ipynb#Calculating-Accuracy-Score)\n",
    "- [Aggregate data in a Series using `value_counts` in pandas.](../%40textbook/04-pandas-advanced.ipynb#Working-with-value_counts-in-a-Series)"
   ]
  },
  {
   "cell_type": "code",
   "execution_count": 33,
   "id": "e50c5f8b",
   "metadata": {},
   "outputs": [
    {
     "data": {
      "text/plain": [
       "0.6410319757182183"
      ]
     },
     "execution_count": 33,
     "metadata": {},
     "output_type": "execute_result"
    }
   ],
   "source": [
    "y_train.value_counts(normalize=True).max()"
   ]
  },
  {
   "cell_type": "code",
   "execution_count": 34,
   "id": "3791b4d7",
   "metadata": {},
   "outputs": [
    {
     "name": "stdout",
     "output_type": "stream",
     "text": [
      "Baseline Accuracy: 0.64\n"
     ]
    }
   ],
   "source": [
    "acc_baseline = y_train.value_counts(normalize=True).max()\n",
    "print(\"Baseline Accuracy:\", round(acc_baseline, 2))"
   ]
  },
  {
   "cell_type": "markdown",
   "id": "102135df",
   "metadata": {},
   "source": [
    "## Iterate"
   ]
  },
  {
   "cell_type": "markdown",
   "id": "296d60b3",
   "metadata": {},
   "source": [
    "**Task 4.2.15:** Create a pipeline named `model` that contains a `OneHotEncoder` transformer and a `LogisticRegression` predictor. Be sure you set the `use_cat_names` argument for your transformer to `True`. Then fit it to the training data. \n",
    "\n",
    "- [What's <span id='term'>logistic regression</span>?](../%40textbook/14-ml-classification.ipynb#Logistic-Regression)\n",
    "- [What's <span id='term'>one-hot encoding</span>?](../%40textbook/13-ml-data-pre-processing-and-production.ipynb#One-Hot-Encoding)\n",
    "- [<span id='technique'>Create a pipeline in <span id='tool'>scikit-learn</span></span>.](../%40textbook/13-ml-data-pre-processing-and-production.ipynb#Creating-a-Pipeline-in-scikit-learn)\n",
    "- [<span id='technique'>Fit a model to training data in <span id='tool'>scikit-learn</span></span>.](../%40textbook/15-ml-regression.ipynb#Fitting-a-Model-to-Training-Data)\n",
    "\n",
    "<div class=\"alert alert-block alert-info\">\n",
    "<b>Tip:</b> If you get a <code>ConvergenceWarning</code></b> when you fit your model to the training data, don't worry. This can sometimes happen with logistic regression models. Try setting the <code>max_iter</code> argument in your predictor to <code>1000</code>.\n",
    "</div>"
   ]
  },
  {
   "cell_type": "code",
   "execution_count": 35,
   "id": "90b427fc",
   "metadata": {},
   "outputs": [
    {
     "data": {
      "text/html": [
       "<style>#sk-container-id-1 {color: black;background-color: white;}#sk-container-id-1 pre{padding: 0;}#sk-container-id-1 div.sk-toggleable {background-color: white;}#sk-container-id-1 label.sk-toggleable__label {cursor: pointer;display: block;width: 100%;margin-bottom: 0;padding: 0.3em;box-sizing: border-box;text-align: center;}#sk-container-id-1 label.sk-toggleable__label-arrow:before {content: \"▸\";float: left;margin-right: 0.25em;color: #696969;}#sk-container-id-1 label.sk-toggleable__label-arrow:hover:before {color: black;}#sk-container-id-1 div.sk-estimator:hover label.sk-toggleable__label-arrow:before {color: black;}#sk-container-id-1 div.sk-toggleable__content {max-height: 0;max-width: 0;overflow: hidden;text-align: left;background-color: #f0f8ff;}#sk-container-id-1 div.sk-toggleable__content pre {margin: 0.2em;color: black;border-radius: 0.25em;background-color: #f0f8ff;}#sk-container-id-1 input.sk-toggleable__control:checked~div.sk-toggleable__content {max-height: 200px;max-width: 100%;overflow: auto;}#sk-container-id-1 input.sk-toggleable__control:checked~label.sk-toggleable__label-arrow:before {content: \"▾\";}#sk-container-id-1 div.sk-estimator input.sk-toggleable__control:checked~label.sk-toggleable__label {background-color: #d4ebff;}#sk-container-id-1 div.sk-label input.sk-toggleable__control:checked~label.sk-toggleable__label {background-color: #d4ebff;}#sk-container-id-1 input.sk-hidden--visually {border: 0;clip: rect(1px 1px 1px 1px);clip: rect(1px, 1px, 1px, 1px);height: 1px;margin: -1px;overflow: hidden;padding: 0;position: absolute;width: 1px;}#sk-container-id-1 div.sk-estimator {font-family: monospace;background-color: #f0f8ff;border: 1px dotted black;border-radius: 0.25em;box-sizing: border-box;margin-bottom: 0.5em;}#sk-container-id-1 div.sk-estimator:hover {background-color: #d4ebff;}#sk-container-id-1 div.sk-parallel-item::after {content: \"\";width: 100%;border-bottom: 1px solid gray;flex-grow: 1;}#sk-container-id-1 div.sk-label:hover label.sk-toggleable__label {background-color: #d4ebff;}#sk-container-id-1 div.sk-serial::before {content: \"\";position: absolute;border-left: 1px solid gray;box-sizing: border-box;top: 0;bottom: 0;left: 50%;z-index: 0;}#sk-container-id-1 div.sk-serial {display: flex;flex-direction: column;align-items: center;background-color: white;padding-right: 0.2em;padding-left: 0.2em;position: relative;}#sk-container-id-1 div.sk-item {position: relative;z-index: 1;}#sk-container-id-1 div.sk-parallel {display: flex;align-items: stretch;justify-content: center;background-color: white;position: relative;}#sk-container-id-1 div.sk-item::before, #sk-container-id-1 div.sk-parallel-item::before {content: \"\";position: absolute;border-left: 1px solid gray;box-sizing: border-box;top: 0;bottom: 0;left: 50%;z-index: -1;}#sk-container-id-1 div.sk-parallel-item {display: flex;flex-direction: column;z-index: 1;position: relative;background-color: white;}#sk-container-id-1 div.sk-parallel-item:first-child::after {align-self: flex-end;width: 50%;}#sk-container-id-1 div.sk-parallel-item:last-child::after {align-self: flex-start;width: 50%;}#sk-container-id-1 div.sk-parallel-item:only-child::after {width: 0;}#sk-container-id-1 div.sk-dashed-wrapped {border: 1px dashed gray;margin: 0 0.4em 0.5em 0.4em;box-sizing: border-box;padding-bottom: 0.4em;background-color: white;}#sk-container-id-1 div.sk-label label {font-family: monospace;font-weight: bold;display: inline-block;line-height: 1.2em;}#sk-container-id-1 div.sk-label-container {text-align: center;}#sk-container-id-1 div.sk-container {/* jupyter's `normalize.less` sets `[hidden] { display: none; }` but bootstrap.min.css set `[hidden] { display: none !important; }` so we also need the `!important` here to be able to override the default hidden behavior on the sphinx rendered scikit-learn.org. See: https://github.com/scikit-learn/scikit-learn/issues/21755 */display: inline-block !important;position: relative;}#sk-container-id-1 div.sk-text-repr-fallback {display: none;}</style><div id=\"sk-container-id-1\" class=\"sk-top-container\"><div class=\"sk-text-repr-fallback\"><pre>Pipeline(steps=[(&#x27;onehotencoder&#x27;,\n",
       "                 OneHotEncoder(cols=[&#x27;land_surface_condition&#x27;,\n",
       "                                     &#x27;foundation_type&#x27;, &#x27;roof_type&#x27;,\n",
       "                                     &#x27;ground_floor_type&#x27;, &#x27;other_floor_type&#x27;,\n",
       "                                     &#x27;position&#x27;, &#x27;plan_configuration&#x27;,\n",
       "                                     &#x27;superstructure&#x27;],\n",
       "                               use_cat_names=True)),\n",
       "                (&#x27;logisticregression&#x27;, LogisticRegression(max_iter=1000))])</pre><b>In a Jupyter environment, please rerun this cell to show the HTML representation or trust the notebook. <br />On GitHub, the HTML representation is unable to render, please try loading this page with nbviewer.org.</b></div><div class=\"sk-container\" hidden><div class=\"sk-item sk-dashed-wrapped\"><div class=\"sk-label-container\"><div class=\"sk-label sk-toggleable\"><input class=\"sk-toggleable__control sk-hidden--visually\" id=\"sk-estimator-id-1\" type=\"checkbox\" ><label for=\"sk-estimator-id-1\" class=\"sk-toggleable__label sk-toggleable__label-arrow\">Pipeline</label><div class=\"sk-toggleable__content\"><pre>Pipeline(steps=[(&#x27;onehotencoder&#x27;,\n",
       "                 OneHotEncoder(cols=[&#x27;land_surface_condition&#x27;,\n",
       "                                     &#x27;foundation_type&#x27;, &#x27;roof_type&#x27;,\n",
       "                                     &#x27;ground_floor_type&#x27;, &#x27;other_floor_type&#x27;,\n",
       "                                     &#x27;position&#x27;, &#x27;plan_configuration&#x27;,\n",
       "                                     &#x27;superstructure&#x27;],\n",
       "                               use_cat_names=True)),\n",
       "                (&#x27;logisticregression&#x27;, LogisticRegression(max_iter=1000))])</pre></div></div></div><div class=\"sk-serial\"><div class=\"sk-item\"><div class=\"sk-estimator sk-toggleable\"><input class=\"sk-toggleable__control sk-hidden--visually\" id=\"sk-estimator-id-2\" type=\"checkbox\" ><label for=\"sk-estimator-id-2\" class=\"sk-toggleable__label sk-toggleable__label-arrow\">OneHotEncoder</label><div class=\"sk-toggleable__content\"><pre>OneHotEncoder(cols=[&#x27;land_surface_condition&#x27;, &#x27;foundation_type&#x27;, &#x27;roof_type&#x27;,\n",
       "                    &#x27;ground_floor_type&#x27;, &#x27;other_floor_type&#x27;, &#x27;position&#x27;,\n",
       "                    &#x27;plan_configuration&#x27;, &#x27;superstructure&#x27;],\n",
       "              use_cat_names=True)</pre></div></div></div><div class=\"sk-item\"><div class=\"sk-estimator sk-toggleable\"><input class=\"sk-toggleable__control sk-hidden--visually\" id=\"sk-estimator-id-3\" type=\"checkbox\" ><label for=\"sk-estimator-id-3\" class=\"sk-toggleable__label sk-toggleable__label-arrow\">LogisticRegression</label><div class=\"sk-toggleable__content\"><pre>LogisticRegression(max_iter=1000)</pre></div></div></div></div></div></div></div>"
      ],
      "text/plain": [
       "Pipeline(steps=[('onehotencoder',\n",
       "                 OneHotEncoder(cols=['land_surface_condition',\n",
       "                                     'foundation_type', 'roof_type',\n",
       "                                     'ground_floor_type', 'other_floor_type',\n",
       "                                     'position', 'plan_configuration',\n",
       "                                     'superstructure'],\n",
       "                               use_cat_names=True)),\n",
       "                ('logisticregression', LogisticRegression(max_iter=1000))])"
      ]
     },
     "execution_count": 35,
     "metadata": {},
     "output_type": "execute_result"
    }
   ],
   "source": [
    "# Build model\n",
    "model = make_pipeline(\n",
    "    OneHotEncoder(use_cat_names=True),\n",
    "    LogisticRegression(max_iter=1000)\n",
    ")\n",
    "# Fit model to training data\n",
    "model.fit(X_train,y_train)\n"
   ]
  },
  {
   "cell_type": "code",
   "execution_count": 36,
   "id": "6a96c7c6",
   "metadata": {},
   "outputs": [],
   "source": [
    "# Check your work\n",
    "assert isinstance(\n",
    "    model, Pipeline\n",
    "), f\"`model` should be a Pipeline, not type {type(model)}.\"\n",
    "assert isinstance(\n",
    "    model[0], OneHotEncoder\n",
    "), f\"The first step in your Pipeline should be a OneHotEncoder, not type {type(model[0])}.\"\n",
    "assert isinstance(\n",
    "    model[-1], LogisticRegression\n",
    "), f\"The last step in your Pipeline should be LogisticRegression, not type {type(model[-1])}.\"\n",
    "check_is_fitted(model)"
   ]
  },
  {
   "cell_type": "markdown",
   "id": "9ac960bb",
   "metadata": {},
   "source": [
    "## Evaluate"
   ]
  },
  {
   "cell_type": "markdown",
   "id": "196d3dbe",
   "metadata": {},
   "source": [
    "**Task 4.2.16:** Calculate the training and test accuracy scores for your models. \n",
    "\n",
    "- [<span id='technique'>Calculate the accuracy score for a model in <span id='term'>scikit-learn</span></span>.](../%40textbook/14-ml-classification.ipynb#Calculating-Accuracy-Score)\n",
    "- [<span id='technique'>Generate predictions using a trained model in <span id='term'>scikit-learn</span></span>.](../%40textbook/15-ml-regression.ipynb#Generating-Predictions-Using-a-Trained-Model)"
   ]
  },
  {
   "cell_type": "code",
   "execution_count": 37,
   "id": "3bba7315",
   "metadata": {
    "scrolled": true
   },
   "outputs": [
    {
     "data": {
      "text/plain": [
       "0.71348909437425"
      ]
     },
     "execution_count": 37,
     "metadata": {},
     "output_type": "execute_result"
    }
   ],
   "source": [
    "accuracy_score(y_train,model.predict(X_train))"
   ]
  },
  {
   "cell_type": "code",
   "execution_count": 38,
   "id": "f1c61c71",
   "metadata": {},
   "outputs": [
    {
     "data": {
      "text/plain": [
       "0.7217673630717109"
      ]
     },
     "execution_count": 38,
     "metadata": {},
     "output_type": "execute_result"
    }
   ],
   "source": [
    "model.score(X_test,y_test)"
   ]
  },
  {
   "cell_type": "code",
   "execution_count": 39,
   "id": "4dd866df",
   "metadata": {},
   "outputs": [
    {
     "name": "stdout",
     "output_type": "stream",
     "text": [
      "Training Accuracy: 0.71\n",
      "Test Accuracy: 0.72\n"
     ]
    }
   ],
   "source": [
    "acc_train = accuracy_score(y_train,model.predict(X_train))\n",
    "acc_test = model.score(X_test,y_test)\n",
    "\n",
    "print(\"Training Accuracy:\", round(acc_train, 2))\n",
    "print(\"Test Accuracy:\", round(acc_test, 2))"
   ]
  },
  {
   "cell_type": "markdown",
   "id": "ab9fd9a6",
   "metadata": {},
   "source": [
    "# Communicate"
   ]
  },
  {
   "cell_type": "markdown",
   "id": "6f3ee4f6",
   "metadata": {},
   "source": [
    "**Task 4.2.17:** Instead of using the `predict` method with your model, try `predict_proba` with your training data. How does the `predict_proba` output differ than that of `predict`? What does it represent?\n",
    "\n",
    "- [<span id='technique'>Generate probability estimates using a trained model in <span id='tool'>scikit-learn</span></span>.](../%40textbook/14-ml-classification.ipynb#Probability-Estimates)"
   ]
  },
  {
   "cell_type": "code",
   "execution_count": 40,
   "id": "19bde8ad",
   "metadata": {},
   "outputs": [
    {
     "data": {
      "text/plain": [
       "array([0, 1, 1, 1, 1])"
      ]
     },
     "execution_count": 40,
     "metadata": {},
     "output_type": "execute_result"
    }
   ],
   "source": [
    "model.predict(X_train[:5])"
   ]
  },
  {
   "cell_type": "code",
   "execution_count": 42,
   "id": "1bd9e83b",
   "metadata": {},
   "outputs": [
    {
     "name": "stdout",
     "output_type": "stream",
     "text": [
      "[[0.96698326 0.03301674]\n",
      " [0.46114014 0.53885986]\n",
      " [0.34671096 0.65328904]\n",
      " [0.40626425 0.59373575]\n",
      " [0.33410166 0.66589834]]\n"
     ]
    }
   ],
   "source": [
    "y_train_pred_proba = model.predict_proba(X_train)\n",
    "print(y_train_pred_proba[:5])"
   ]
  },
  {
   "cell_type": "markdown",
   "id": "08c85ea1",
   "metadata": {},
   "source": [
    "**Task 4.2.18:** Extract the feature names and importances from your `model`.\n",
    "\n",
    "- [<span id='technique'>Access an object in a pipeline in <span id='tool'>scikit-learn</span></span>.](../%40textbook/13-ml-data-pre-processing-and-production.ipynb#Accessing-an-Object-in-a-Pipeline)"
   ]
  },
  {
   "cell_type": "code",
   "execution_count": 45,
   "id": "47dcc7f8",
   "metadata": {},
   "outputs": [],
   "source": [
    "features = model.named_steps[\"onehotencoder\"].get_feature_names()\n",
    "importances = model.named_steps[\"logisticregression\"].coef_[0]\n"
   ]
  },
  {
   "cell_type": "code",
   "execution_count": 47,
   "id": "db0d7a19",
   "metadata": {},
   "outputs": [
    {
     "data": {
      "text/plain": [
       "['age_building',\n",
       " 'plinth_area_sq_ft',\n",
       " 'height_ft_pre_eq',\n",
       " 'land_surface_condition_Steep slope',\n",
       " 'land_surface_condition_Flat',\n",
       " 'land_surface_condition_Moderate slope',\n",
       " 'foundation_type_RC',\n",
       " 'foundation_type_Mud mortar-Stone/Brick',\n",
       " 'foundation_type_Bamboo/Timber',\n",
       " 'foundation_type_Cement-Stone/Brick',\n",
       " 'foundation_type_Other',\n",
       " 'roof_type_RCC/RB/RBC',\n",
       " 'roof_type_Bamboo/Timber-Light roof',\n",
       " 'roof_type_Bamboo/Timber-Heavy roof',\n",
       " 'ground_floor_type_RC',\n",
       " 'ground_floor_type_Mud',\n",
       " 'ground_floor_type_Timber',\n",
       " 'ground_floor_type_Brick/Stone',\n",
       " 'ground_floor_type_Other',\n",
       " 'other_floor_type_RCC/RB/RBC',\n",
       " 'other_floor_type_TImber/Bamboo-Mud',\n",
       " 'other_floor_type_Not applicable',\n",
       " 'other_floor_type_Timber-Planck',\n",
       " 'position_Attached-2 side',\n",
       " 'position_Not attached',\n",
       " 'position_Attached-1 side',\n",
       " 'position_Attached-3 side',\n",
       " 'plan_configuration_Rectangular',\n",
       " 'plan_configuration_Square',\n",
       " 'plan_configuration_Others',\n",
       " 'plan_configuration_H-shape',\n",
       " 'plan_configuration_T-shape',\n",
       " 'plan_configuration_L-shape',\n",
       " 'plan_configuration_Multi-projected',\n",
       " 'plan_configuration_E-shape',\n",
       " 'plan_configuration_U-shape',\n",
       " 'plan_configuration_Building with Central Courtyard',\n",
       " 'superstructure_RC, non-engineered',\n",
       " 'superstructure_Stone, mud mortar',\n",
       " 'superstructure_Adobe/mud',\n",
       " 'superstructure_Other',\n",
       " 'superstructure_Stone',\n",
       " 'superstructure_RC, engineered',\n",
       " 'superstructure_Timber',\n",
       " 'superstructure_Stone, cement mortar',\n",
       " 'superstructure_Brick, mud mortar',\n",
       " 'superstructure_Brick, cement mortar',\n",
       " 'superstructure_Bamboo']"
      ]
     },
     "execution_count": 47,
     "metadata": {},
     "output_type": "execute_result"
    }
   ],
   "source": [
    "features"
   ]
  },
  {
   "cell_type": "code",
   "execution_count": 48,
   "id": "586b030a",
   "metadata": {},
   "outputs": [
    {
     "data": {
      "text/plain": [
       "array([ 5.78424961e-04,  2.42587952e-04,  6.51134350e-03,  1.25078659e-01,\n",
       "       -4.08404518e-01, -2.61719554e-01, -1.04326040e+00,  3.60247112e-01,\n",
       "       -5.32269744e-01,  4.40930034e-02,  6.26144620e-01, -9.59779310e-01,\n",
       "        1.53884859e-01,  2.60849038e-01, -6.72066651e-01, -1.33703778e-01,\n",
       "        3.31267111e-01,  2.29525235e-02, -9.34946185e-02, -6.00411434e-01,\n",
       "       -1.46227235e-01, -3.41075472e-02,  2.35700804e-01, -1.75718607e-01,\n",
       "       -1.51153120e-01, -6.90644475e-02, -1.49109237e-01,  3.49753137e-01,\n",
       "        2.79072339e-01, -3.91089796e-02, -1.42984287e-02,  1.58333969e-02,\n",
       "       -5.17929089e-01, -4.85461238e-01,  3.85323410e-02, -1.56541207e-01,\n",
       "       -1.48976850e-02, -4.69311606e-01,  1.02454326e+00,  5.99425391e-01,\n",
       "       -4.24849302e-01,  1.35751264e+00, -2.94927224e-01, -1.90822033e-01,\n",
       "       -4.50466638e-01,  6.95766642e-02, -1.32711512e+00, -4.38611447e-01])"
      ]
     },
     "execution_count": 48,
     "metadata": {},
     "output_type": "execute_result"
    }
   ],
   "source": [
    "importances"
   ]
  },
  {
   "cell_type": "markdown",
   "id": "02c06f3a",
   "metadata": {},
   "source": [
    "**Task 4.2.19:** Create a pandas Series named `odds_ratios`, where the index is `features` and the values are your the exponential of the `importances`. How does `odds_ratios` for this model look different from the other linear models we made in projects 2 and 3?\n",
    "\n",
    "- [<span id='technique'>Create a Series in <span id='tool'>pandas</span></span>.](../%40textbook/04-pandas-advanced.ipynb#Subset-a-DataFrame-by-Selecting-One-or-More-Columns)"
   ]
  },
  {
   "cell_type": "code",
   "execution_count": 50,
   "id": "f3f01720",
   "metadata": {},
   "outputs": [
    {
     "data": {
      "text/plain": [
       "superstructure_Brick, cement mortar    0.265241\n",
       "foundation_type_RC                     0.352304\n",
       "roof_type_RCC/RB/RBC                   0.382977\n",
       "ground_floor_type_RC                   0.510652\n",
       "other_floor_type_RCC/RB/RBC            0.548586\n",
       "dtype: float64"
      ]
     },
     "execution_count": 50,
     "metadata": {},
     "output_type": "execute_result"
    }
   ],
   "source": [
    "odds_ratios = pd.Series(np.exp(importances),index=features).sort_values()\n",
    "odds_ratios.head()"
   ]
  },
  {
   "cell_type": "markdown",
   "id": "9c2e02de",
   "metadata": {},
   "source": [
    "**Task 4.2.20:** Create a horizontal bar chart with the five largest coefficients from `odds_ratios`. Be sure to label your x-axis `\"Odds Ratio\"`.\n",
    "\n",
    "- [What's a <span id='term'>bar chart</span>?](../%40textbook/06-visualization-matplotlib.ipynb#Bar-Charts)\n",
    "- [<span id='technique'>Create a bar chart using <span id='tool'>Matplotlib</span></span>.](../%40textbook/06-visualization-matplotlib.ipynb#Bar-Charts)"
   ]
  },
  {
   "cell_type": "code",
   "execution_count": 52,
   "id": "3634a4cf",
   "metadata": {},
   "outputs": [
    {
     "data": {
      "text/plain": [
       "Text(0.5, 0, 'Odds Ratio')"
      ]
     },
     "execution_count": 52,
     "metadata": {},
     "output_type": "execute_result"
    },
    {
     "data": {
      "image/png": "[encoded data removed]",
      "text/plain": [
       "<Figure size 432x288 with 1 Axes>"
      ]
     },
     "metadata": {
      "needs_background": "light"
     },
     "output_type": "display_data"
    }
   ],
   "source": [
    "# Horizontal bar chart, five largest coefficients\n",
    "odds_ratios.tail().plot(\n",
    "    kind=\"barh\"\n",
    ")\n",
    "plt.xlabel(\"Odds Ratio\")"
   ]
  },
  {
   "cell_type": "markdown",
   "id": "90669b73",
   "metadata": {},
   "source": [
    "**Task 4.2.21:** Create a horizontal bar chart with the five smallest coefficients from `odds_ratios`. Be sure to label your x-axis `\"Odds Ratio\"`.\n",
    "\n",
    "- [What's a <span id='term'>bar chart</span>?](../%40textbook/06-visualization-matplotlib.ipynb#Bar-Charts)\n",
    "- [<span id='technique'>Create a bar chart using <span id='tool'>Matplotlib</span></span>.](../%40textbook/06-visualization-matplotlib.ipynb#Bar-Charts)"
   ]
  },
  {
   "cell_type": "code",
   "execution_count": 54,
   "id": "bec742e6",
   "metadata": {},
   "outputs": [
    {
     "data": {
      "text/plain": [
       "Text(0.5, 0, 'Odds Ratio')"
      ]
     },
     "execution_count": 54,
     "metadata": {},
     "output_type": "execute_result"
    },
    {
     "data": {
      "image/png": "[encoded data removed]",
      "text/plain": [
       "<Figure size 432x288 with 1 Axes>"
      ]
     },
     "metadata": {
      "needs_background": "light"
     },
     "output_type": "display_data"
    }
   ],
   "source": [
    "# Horizontal bar chart, five smallest coefficients\n",
    "odds_ratios.head().plot(\n",
    "    kind=\"barh\"\n",
    ")\n",
    "plt.xlabel(\"Odds Ratio\")"
   ]
  },
  {
   "cell_type": "code",
   "execution_count": null,
   "id": "241d6909",
   "metadata": {},
   "outputs": [],
   "source": []
  }
 ],
 "metadata": {
  "kernelspec": {
   "display_name": "Python 3 (ipykernel)",
   "language": "python",
   "name": "python3"
  },
  "language_info": {
   "codemirror_mode": {
    "name": "ipython",
    "version": 3
   },
   "file_extension": ".py",
   "mimetype": "text/x-python",
   "name": "python",
   "nbconvert_exporter": "python",
   "pygments_lexer": "ipython3",
   "version": "3.9.7"
  }
 },
 "nbformat": 4,
 "nbformat_minor": 5
}
